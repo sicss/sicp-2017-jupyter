{
 "cells": [
  {
   "cell_type": "markdown",
   "metadata": {},
   "source": [
    "# &sect;2.1 Introduction to Data Abstraction"
   ]
  },
  {
   "cell_type": "markdown",
   "metadata": {},
   "source": [
    "### Exercise 2.1\n",
    "Define a better version of make-rat that handles both positive and negative arguments. Make-rat should normalize the sign so that if the rational number is positive, both the numerator and denominator are positive, and if the rational number is negative, only the numerator is negative."
   ]
  },
  {
   "cell_type": "code",
   "execution_count": 5,
   "metadata": {
    "collapsed": false
   },
   "outputs": [
    {
     "name": "stderr",
     "output_type": "stream",
     "text": [
      "\n",
      "Traceback (most recent call last):\n",
      "  File \"In [5]\", line 24, col 11, in 'Make-rat'\n",
      "  File \"In [5]\", line 4, col 13\n",
      "RunTimeError: unbound variable 'gcd'\n",
      "\n"
     ]
    }
   ],
   "source": [
    "; == PAIR layer ==\n",
    "\n",
    "(define (Make-rat n d)\n",
    "  (let ((g (gcd n d)))\n",
    "        (if (or (and (< n 0) (< d 0))\n",
    "                (and (> n 0) (> d 0)))\n",
    "            (cons (/ n g) (/ d g))\n",
    "            (cons (- (/ n g)) (abs (/ d g))))))\n",
    "\n",
    "(define (print-rat x)\n",
    "  (newline)\n",
    "  (display (numer x))\n",
    "  (display \"/\")\n",
    "  (display (denom x)))\n",
    "\n",
    "(define (numer x)\n",
    "  (car x))\n",
    "\n",
    "(define (denom x)\n",
    "  (cdr x))\n",
    "\n",
    "; == RATIONAL NUMBER layer ==\n",
    "\n",
    "(define a (Make-rat 2 -4))\n",
    "(print-rat a)\n",
    "(numer a)\n",
    "(denom a)"
   ]
  }
 ],
 "metadata": {
  "kernelspec": {
   "display_name": "Calysto Scheme 3",
   "language": "scheme",
   "name": "calysto_scheme"
  },
  "language_info": {
   "codemirror_mode": {
    "name": "scheme"
   },
   "mimetype": "text/x-scheme",
   "name": "scheme",
   "pygments_lexer": "scheme"
  }
 },
 "nbformat": 4,
 "nbformat_minor": 0
}
