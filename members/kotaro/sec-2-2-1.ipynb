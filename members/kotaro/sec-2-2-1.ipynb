{
 "cells": [
  {
   "cell_type": "code",
   "execution_count": 1,
   "metadata": {
    "collapsed": false
   },
   "outputs": [
    {
     "data": {
      "text/plain": [
       "34"
      ]
     },
     "execution_count": 1,
     "metadata": {},
     "output_type": "execute_result"
    }
   ],
   "source": [
    ";; Exercise 2.17\n",
    "(define (last-pair list)\n",
    "  (if (null? (cdr list))\n",
    "      (car list)\n",
    "      (last-pair (cdr list))))\n",
    "(last-pair (list 23 72 149 34))\n"
   ]
  },
  {
   "cell_type": "code",
   "execution_count": 8,
   "metadata": {
    "collapsed": false
   },
   "outputs": [
    {
     "data": {
      "text/plain": [
       "34"
      ]
     },
     "execution_count": 8,
     "metadata": {},
     "output_type": "execute_result"
    }
   ],
   "source": [
    "(define (last-pair2 list)\n",
    "  (if (= (length list) 1)\n",
    "      (car list)\n",
    "      (last-pair2 (cdr list))))\n",
    "(last-pair2 (list 23 72 149 34))"
   ]
  },
  {
   "cell_type": "code",
   "execution_count": 5,
   "metadata": {
    "collapsed": false
   },
   "outputs": [
    {
     "name": "stderr",
     "output_type": "stream",
     "text": [
      "\n",
      "Traceback (most recent call last):\n",
      "  File \"In [5]\", line 6, col 1, in 'reverse'\n",
      "  File \"In [5]\", line 5, col 40\n",
      "RunTimeError: unbound variable 'drop-right'\n",
      "\n"
     ]
    }
   ],
   "source": [
    ";; Exercise 2.18\n",
    "(define (reverse list)\n",
    "  (if (null? (cdr list))\n",
    "      list\n",
    "      (cons (last-pair list) (reverse (drop-right list 1)))))\n",
    "(reverse (list 1 4 9 16 25))\n"
   ]
  },
  {
   "cell_type": "code",
   "execution_count": 4,
   "metadata": {
    "collapsed": false
   },
   "outputs": [
    {
     "data": {
      "text/plain": [
       "292"
      ]
     },
     "execution_count": 4,
     "metadata": {},
     "output_type": "execute_result"
    }
   ],
   "source": [
    ";; Exercise 2.19\n",
    "(define us-coins (list 1 5 10 25 50))\n",
    "(define uk-coins (list 100 50 20 10 5 2 1 0.5))\n",
    "\n",
    "(define (no-more? coin-list)\n",
    "  (null? coin-list))\n",
    "\n",
    "(define (except-first-denomination cv) ; coin value\n",
    "  (cdr cv))\n",
    "\n",
    "(define (first-denomination cv)\n",
    "  (car cv))\n",
    "\n",
    "(define (cc amount coin-values)\n",
    "  (cond ((= amount 0) 1)\n",
    "        ;; Here! This part makes change!!!\n",
    "        ;; This implementation doesn't use (= kinds-of-coins 0)        \n",
    "        ((or (< amount 0) (no-more? coin-values)) 0) \n",
    "        (else\n",
    "         (+ (cc amount\n",
    "                (except-first-denomination coin-values))\n",
    "            (cc (- amount\n",
    "                   (first-denomination coin-values))\n",
    "                coin-values)))))\n",
    "\n",
    "(cc 100 us-coins)\n"
   ]
  },
  {
   "cell_type": "code",
   "execution_count": 7,
   "metadata": {
    "collapsed": false
   },
   "outputs": [
    {
     "data": {
      "text/plain": [
       "(1 4 9)"
      ]
     },
     "execution_count": 7,
     "metadata": {},
     "output_type": "execute_result"
    }
   ],
   "source": [
    ";; Exercise 2.21\n",
    "(define (square-list items)\n",
    "  (if (null? items)\n",
    "      '()\n",
    "      (cons (* (car items) (car items))\n",
    "            (square-list (cdr items)))))\n",
    "(square-list (list 1 2 3))\n"
   ]
  },
  {
   "cell_type": "code",
   "execution_count": 9,
   "metadata": {
    "collapsed": false
   },
   "outputs": [
    {
     "data": {
      "text/plain": [
       "(1 4 9)"
      ]
     },
     "execution_count": 9,
     "metadata": {},
     "output_type": "execute_result"
    }
   ],
   "source": [
    "(define (square-list2 items)\n",
    "  (map (lambda (x) (* x x))\n",
    "       items))\n",
    "(square-list2 (list 1 2 3))\n"
   ]
  },
  {
   "cell_type": "code",
   "execution_count": 11,
   "metadata": {
    "collapsed": false
   },
   "outputs": [
    {
     "data": {
      "text/plain": [
       "(9 4 1)"
      ]
     },
     "execution_count": 11,
     "metadata": {},
     "output_type": "execute_result"
    }
   ],
   "source": [
    ";; Exercise 2.22\n",
    "(define (square x)\n",
    "  (* x x))\n",
    "\n",
    "(define (square-list3 items)\n",
    "  (define (iter things answer)\n",
    "    (if (null? things)\n",
    "        answer\n",
    "        (iter (cdr things)\n",
    "              (cons (square (car things))\n",
    "                    answer))))\n",
    "  (iter items '()))\n",
    "\n",
    "(square-list3 (list 1 2 3))\n",
    "\n",
    ";; ref: https://github.com/danielpi/SICP-Exercises/blob/master/Racket/Ex%202.22%20Iterative%20Square%20List.rkt\n",
    ";; Because it squares values in answer from the beginning and stores them\n",
    ";; from the beginning\n"
   ]
  },
  {
   "cell_type": "code",
   "execution_count": 13,
   "metadata": {
    "collapsed": false
   },
   "outputs": [
    {
     "data": {
      "text/plain": [
       "(((() . 1) . 4) . 9)"
      ]
     },
     "execution_count": 13,
     "metadata": {},
     "output_type": "execute_result"
    }
   ],
   "source": [
    "(define (square-list4 items)\n",
    "  (define (iter things answer)\n",
    "    (if (null? things)\n",
    "        answer\n",
    "        (iter (cdr things)\n",
    "              (cons answer\n",
    "                    (square (car things))))))\n",
    "  (iter items '()))\n",
    "\n",
    "(square-list4 (list 1 2 3))\n",
    "\n",
    ";; Because it cannot become a list\n",
    "; This gets the order right but the result isn't a proper list. A list is a series of pairs with\n",
    "; the left item being a value and the right item being a pointer to the next pair. Here the\n",
    "; order has been swapped with the left value being a pointer to the previous pair and the\n",
    "; right being the value.\n"
   ]
  },
  {
   "cell_type": "code",
   "execution_count": 14,
   "metadata": {
    "collapsed": false
   },
   "outputs": [
    {
     "name": "stdout",
     "output_type": "stream",
     "text": [
      "\n",
      "57\n",
      "321\n",
      "88"
     ]
    },
    {
     "data": {
      "text/plain": [
       "#t"
      ]
     },
     "execution_count": 14,
     "metadata": {},
     "output_type": "execute_result"
    }
   ],
   "source": [
    ";; Exercise 2.23\n",
    ";; http://community.schemewiki.org/?sicp-ex-2.23\n",
    "(define (for-each proc list) \n",
    "   (cond \n",
    "    ((null? list) #t)\n",
    "    (else (proc (car list)) (for-each proc (cdr list)))))\n",
    "\n",
    "(for-each (lambda (x) (newline) (display x))\n",
    "          (list 57 321 88))\n"
   ]
  },
  {
   "cell_type": "code",
   "execution_count": 15,
   "metadata": {
    "collapsed": false
   },
   "outputs": [
    {
     "data": {
      "text/plain": [
       "(1 (2 (3 4)))"
      ]
     },
     "execution_count": 15,
     "metadata": {},
     "output_type": "execute_result"
    }
   ],
   "source": [
    ";; Exercise 2.24\n",
    ";; Answer abbrev.\n",
    "(list 1 (list 2 (list 3 4)))\n"
   ]
  },
  {
   "cell_type": "code",
   "execution_count": 16,
   "metadata": {
    "collapsed": false
   },
   "outputs": [
    {
     "name": "stderr",
     "output_type": "stream",
     "text": [
      "\n",
      "Traceback (most recent call last):\n",
      "  File \"In [16]\", line 2, col 10\n",
      "RunTimeError: unbound variable 'compose-app'\n",
      "\n"
     ]
    }
   ],
   "source": [
    ";; Exercise 2.25\n",
    "(require compose-app)\n",
    "((car .. cdr .. car .. cdr .. cdr) (list 1 3 (list 5 7) 9))\n",
    "((car .. cdr .. car .. cdr .. car .. cdr .. cdr) '(1 3 '(5 7) 9))\n",
    "((car .. car) (list (list 7)))\n",
    "((car .. cdr .. car .. cdr .. car .. cdr .. car .. cdr .. car .. cdr .. car .. cdr)\n",
    " (list 1 (list 2 (list 3 (list 4 (list 5 (list 6 7)))))))\n"
   ]
  },
  {
   "cell_type": "code",
   "execution_count": 17,
   "metadata": {
    "collapsed": false
   },
   "outputs": [
    {
     "data": {
      "text/plain": [
       "((1 2 3) (4 5 6))"
      ]
     },
     "execution_count": 17,
     "metadata": {},
     "output_type": "execute_result"
    }
   ],
   "source": [
    ";; Exercise 2.26\n",
    "(define x2 (list 1 2 3))\n",
    "(define y2 (list 4 5 6))\n",
    "(append x2 y2)\n",
    "(cons x2 y2)\n",
    "(list x2 y2)\n"
   ]
  },
  {
   "cell_type": "code",
   "execution_count": null,
   "metadata": {
    "collapsed": true
   },
   "outputs": [],
   "source": []
  }
 ],
 "metadata": {
  "kernelspec": {
   "display_name": "Calysto Scheme 3",
   "language": "scheme",
   "name": "calysto_scheme"
  },
  "language_info": {
   "codemirror_mode": {
    "name": "scheme"
   },
   "mimetype": "text/x-scheme",
   "name": "scheme",
   "pygments_lexer": "scheme"
  }
 },
 "nbformat": 4,
 "nbformat_minor": 0
}
