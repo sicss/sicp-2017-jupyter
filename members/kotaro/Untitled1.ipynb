{
 "cells": [
  {
   "cell_type": "code",
   "execution_count": null,
   "metadata": {
    "collapsed": true
   },
   "outputs": [],
   "source": [
    ";; Exercise 2.17\n",
    "(define (last-pair list)\n",
    "  (if (null? (cdr list))\n",
    "      (car list)\n",
    "      (last-pair2 (cdr list))))\n",
    "\n",
    "(define (last-pair2 list)\n",
    "  (if (= (length list) 1)\n",
    "      (car list)\n",
    "      (last-pair2 (cdr list))))"
   ]
  }
 ],
 "metadata": {
  "kernelspec": {
   "display_name": "Calysto Scheme 3",
   "language": "scheme",
   "name": "calysto_scheme"
  },
  "language_info": {
   "codemirror_mode": {
    "name": "scheme"
   },
   "mimetype": "text/x-scheme",
   "name": "scheme",
   "pygments_lexer": "scheme"
  }
 },
 "nbformat": 4,
 "nbformat_minor": 0
}
