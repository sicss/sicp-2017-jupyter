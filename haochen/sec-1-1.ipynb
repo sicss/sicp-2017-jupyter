{
 "cells": [
  {
   "cell_type": "markdown",
   "metadata": {},
   "source": [
    "# §1.1 The Elements of Programming"
   ]
  },
  {
   "cell_type": "markdown",
   "metadata": {},
   "source": [
    "### Exercise 1.1"
   ]
  },
  {
   "cell_type": "code",
   "execution_count": 1,
   "metadata": {
    "collapsed": false
   },
   "outputs": [
    {
     "data": {
      "text/plain": [
       "10"
      ]
     },
     "execution_count": 1,
     "metadata": {},
     "output_type": "execute_result"
    }
   ],
   "source": [
    "10"
   ]
  },
  {
   "cell_type": "code",
   "execution_count": 2,
   "metadata": {
    "collapsed": false
   },
   "outputs": [
    {
     "data": {
      "text/plain": [
       "12"
      ]
     },
     "execution_count": 2,
     "metadata": {},
     "output_type": "execute_result"
    }
   ],
   "source": [
    "(+ 5 3 4)"
   ]
  },
  {
   "cell_type": "markdown",
   "metadata": {},
   "source": [
    "(rest is skipped..)"
   ]
  },
  {
   "cell_type": "markdown",
   "metadata": {},
   "source": [
    "### Exercise 1.2"
   ]
  },
  {
   "cell_type": "code",
   "execution_count": 3,
   "metadata": {
    "collapsed": false
   },
   "outputs": [
    {
     "data": {
      "text/plain": [
       "-37/150"
      ]
     },
     "execution_count": 3,
     "metadata": {},
     "output_type": "execute_result"
    }
   ],
   "source": [
    "(/ (+ 5 4 (- 2 (- 3 (+ 6 (/ 4 5)))))\n",
    "   (* 3 (- 6 2) (- 2 7)))"
   ]
  },
  {
   "cell_type": "markdown",
   "metadata": {},
   "source": [
    "### Exercise 1.3"
   ]
  },
  {
   "cell_type": "code",
   "execution_count": 4,
   "metadata": {
    "collapsed": true
   },
   "outputs": [],
   "source": [
    "(define (square x) (* x x))"
   ]
  },
  {
   "cell_type": "markdown",
   "metadata": {},
   "source": [
    "### Exercise 1.4"
   ]
  },
  {
   "cell_type": "code",
   "execution_count": 5,
   "metadata": {
    "collapsed": true
   },
   "outputs": [],
   "source": [
    "(define (a-plus-abs-b a b)\n",
    "  ((if (> b 0) + -) a b))"
   ]
  },
  {
   "cell_type": "markdown",
   "metadata": {},
   "source": [
    "The function `a-plus-abs-b` would calculate what the name suggests, i.e. $ a + |b| $ in mathematical notations. The way it does that is that it firstly check whether b is a possitive number; if it is, return $ a + b $, and return $ a - b $ otherwise.\n",
    "\n",
    "Example applications follow:"
   ]
  },
  {
   "cell_type": "code",
   "execution_count": 6,
   "metadata": {
    "collapsed": false
   },
   "outputs": [
    {
     "data": {
      "text/plain": [
       "(7 7)"
      ]
     },
     "execution_count": 6,
     "metadata": {},
     "output_type": "execute_result"
    }
   ],
   "source": [
    "(list\n",
    " (a-plus-abs-b 3 4)\n",
    " (a-plus-abs-b 3 -4))"
   ]
  },
  {
   "cell_type": "code",
   "execution_count": 7,
   "metadata": {
    "collapsed": false
   },
   "outputs": [
    {
     "data": {
      "text/plain": [
       "(1 1)"
      ]
     },
     "execution_count": 7,
     "metadata": {},
     "output_type": "execute_result"
    }
   ],
   "source": [
    "(list\n",
    " (a-plus-abs-b -3 4)\n",
    " (a-plus-abs-b -3 -4))"
   ]
  },
  {
   "cell_type": "markdown",
   "metadata": {},
   "source": [
    "### Exercise 1.5"
   ]
  },
  {
   "cell_type": "code",
   "execution_count": 8,
   "metadata": {
    "collapsed": true
   },
   "outputs": [],
   "source": [
    "(define (p) (p))\n",
    "(define (test x y)\n",
    "  (if (= x 0)\n",
    "      0 y))\n",
    "; (test 0 (p))"
   ]
  },
  {
   "cell_type": "markdown",
   "metadata": {},
   "source": [
    "If the interpreter uses normal-order, the expression E, `(test 0 (p))`, will never stop (i.e. fall into an infinite loop); while if the interpreter uses applicative-order, E will return `0`.\n",
    "\n",
    "This is due to the fact with normal-order, the second argument in the expression E will be evaluated before the function `test` being executed, which will cause the interpreter to loop forever according to the definition of the function `p`. Conversely, with applicative-order, the function `test` is expanded first, and since the first argument in E equals to 0, the `if` form will return `0` as the result immediately without evaluating the second argument to `test`."
   ]
  },
  {
   "cell_type": "markdown",
   "metadata": {},
   "source": [
    "## §§1.1.7 Example: Square Roots by Newton's Method"
   ]
  },
  {
   "cell_type": "code",
   "execution_count": 9,
   "metadata": {
    "collapsed": false
   },
   "outputs": [],
   "source": [
    "(define epsilon 0.001)\n",
    "\n",
    "(define (average a b) (/ (+ a b) 2))\n",
    "(define (error x expected) (abs (- x expected)))\n",
    "\n",
    "(define (sqrt-iter guess x)\n",
    "  (if (good-enough? guess x)\n",
    "      guess\n",
    "      (sqrt-iter (improve guess x) x)))\n",
    "(define (improve guess x)\n",
    "  (average guess (/ x guess)))\n",
    "(define (good-enough? guess x)\n",
    "  (< (error (square guess) x) epsilon))\n",
    "(define (sqrt1 x) (sqrt-iter 1.0 x))"
   ]
  },
  {
   "cell_type": "code",
   "execution_count": 10,
   "metadata": {
    "collapsed": false
   },
   "outputs": [
    {
     "data": {
      "text/plain": [
       "(1.4142156862745097 1.7321428571428572 3.00009155413138)"
      ]
     },
     "execution_count": 10,
     "metadata": {},
     "output_type": "execute_result"
    }
   ],
   "source": [
    "(list\n",
    " (sqrt1 2)\n",
    " (sqrt1 3)\n",
    " (sqrt1 9))"
   ]
  },
  {
   "cell_type": "markdown",
   "metadata": {},
   "source": [
    "### Exercise 1.6"
   ]
  },
  {
   "cell_type": "markdown",
   "metadata": {},
   "source": [
    "The calculation will never stop. The reason is that since Scheme is an eager language (i.e. it uses the normal-order in the previous subsection), the interpreter will evaluate all of the arguments to `new-if`. And since `sqrt-iter` is defined recursively, itself will be always be called: the using of the `new-if` doesn't help escaping from the recursive invocations since its third argument will always be evaluated before being passed to it."
   ]
  },
  {
   "cell_type": "markdown",
   "metadata": {},
   "source": [
    "### Exercise 1.7"
   ]
  },
  {
   "cell_type": "markdown",
   "metadata": {},
   "source": [
    "(explanation skipped. someone please add it if you're interested)"
   ]
  },
  {
   "cell_type": "markdown",
   "metadata": {},
   "source": [
    "#### Bad examples"
   ]
  },
  {
   "cell_type": "code",
   "execution_count": 11,
   "metadata": {
    "collapsed": false
   },
   "outputs": [
    {
     "data": {
      "text/plain": [
       "(0.00031887755102077975 0.0009765591601630759 0.0009765624998330079)"
      ]
     },
     "execution_count": 11,
     "metadata": {},
     "output_type": "execute_result"
    }
   ],
   "source": [
    "(define (test fun x) (error (square (fun x)) x))\n",
    "\n",
    "(list\n",
    " (test sqrt1 3)\n",
    " (test sqrt1 0.00000001)\n",
    " (test sqrt1 0.0000000000005))\n",
    "\n",
    ";; the following expression doesn't terminate\n",
    "; (test sqrt1 20000000000032443)"
   ]
  },
  {
   "cell_type": "markdown",
   "metadata": {},
   "source": [
    "#### Improved algorithm"
   ]
  },
  {
   "cell_type": "code",
   "execution_count": 12,
   "metadata": {
    "collapsed": true
   },
   "outputs": [],
   "source": [
    "(define rho (/ 1 1000))\n",
    "\n",
    "(define (sqrt-smart guess previous-guess x)\n",
    "  (if (smart-good-enough? guess previous-guess)\n",
    "      guess\n",
    "      (sqrt-smart (improve guess x) guess x)))\n",
    "(define (smart-good-enough? guess previous-guess)\n",
    "  (< (error guess previous-guess) (* rho guess)))\n",
    "(define (sqrt2 x) (sqrt-smart (improve 1.0 x) 1.0 x))"
   ]
  },
  {
   "cell_type": "code",
   "execution_count": 13,
   "metadata": {
    "collapsed": false
   },
   "outputs": [
    {
     "data": {
      "text/plain": [
       "(1.4142156862745097 1.7321428571428572 3.00009155413138)"
      ]
     },
     "execution_count": 13,
     "metadata": {},
     "output_type": "execute_result"
    }
   ],
   "source": [
    "(list\n",
    " (sqrt1 2)\n",
    " (sqrt1 3)\n",
    " (sqrt1 9))"
   ]
  },
  {
   "cell_type": "code",
   "execution_count": 14,
   "metadata": {
    "collapsed": false
   },
   "outputs": [
    {
     "data": {
      "text/plain": [
       "(8.47267322967582e-09 1.6492657925327287e-19 9.924592153180787e-23 5172.0)"
      ]
     },
     "execution_count": 14,
     "metadata": {},
     "output_type": "execute_result"
    }
   ],
   "source": [
    "(list\n",
    " (test sqrt2 3)\n",
    " (test sqrt2 0.00000001)\n",
    " (test sqrt2 0.0000000000005)\n",
    " (test sqrt2 20000000000032443))"
   ]
  },
  {
   "cell_type": "markdown",
   "metadata": {},
   "source": [
    "### Exercise 1.8"
   ]
  },
  {
   "cell_type": "code",
   "execution_count": 15,
   "metadata": {
    "collapsed": true
   },
   "outputs": [],
   "source": [
    "(define rho (/ 1 1000))\n",
    "\n",
    "(define (cubic-iter guess previous-guess x)\n",
    "  (if (smart-good-enough? guess previous-guess)\n",
    "      guess\n",
    "      (cubic-iter (cubic-improve guess x) guess x)))\n",
    "(define (smart-good-enough? guess previous-guess)\n",
    "  (< (error guess previous-guess) (* rho guess)))\n",
    "(define (cubic-improve guess x) (/ (+ (/ x (square guess)) (* 2 guess)) 3))\n",
    "(define (cubic-root x) (cubic-iter (cubic-improve 1.0 x) 1.0 x))"
   ]
  },
  {
   "cell_type": "code",
   "execution_count": 16,
   "metadata": {
    "collapsed": false
   },
   "outputs": [
    {
     "data": {
      "text/plain": [
       "2.154434691772293"
      ]
     },
     "execution_count": 16,
     "metadata": {},
     "output_type": "execute_result"
    }
   ],
   "source": [
    "(cubic-root 10)"
   ]
  }
 ],
 "metadata": {
  "kernelspec": {
   "display_name": "Calysto Scheme 3",
   "language": "scheme",
   "name": "calysto_scheme"
  },
  "language_info": {
   "codemirror_mode": {
    "name": "scheme"
   },
   "mimetype": "text/x-scheme",
   "name": "scheme",
   "pygments_lexer": "scheme"
  }
 },
 "nbformat": 4,
 "nbformat_minor": 0
}
