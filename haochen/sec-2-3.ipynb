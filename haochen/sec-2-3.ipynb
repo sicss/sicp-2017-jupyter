{
 "cells": [
  {
   "cell_type": "markdown",
   "metadata": {},
   "source": [
    "# §2.3 Symbolic Data"
   ]
  },
  {
   "cell_type": "markdown",
   "metadata": {},
   "source": [
    "### Exercise 2.53"
   ]
  },
  {
   "cell_type": "code",
   "execution_count": 1,
   "metadata": {
    "collapsed": false
   },
   "outputs": [
    {
     "data": {
      "text/plain": [
       "(a b c)"
      ]
     },
     "execution_count": 1,
     "metadata": {},
     "output_type": "execute_result"
    }
   ],
   "source": [
    "(list 'a 'b 'c)"
   ]
  },
  {
   "cell_type": "code",
   "execution_count": 2,
   "metadata": {
    "collapsed": false
   },
   "outputs": [
    {
     "data": {
      "text/plain": [
       "((george))"
      ]
     },
     "execution_count": 2,
     "metadata": {},
     "output_type": "execute_result"
    }
   ],
   "source": [
    "(list (list 'george))"
   ]
  },
  {
   "cell_type": "code",
   "execution_count": 3,
   "metadata": {
    "collapsed": false
   },
   "outputs": [
    {
     "data": {
      "text/plain": [
       "((y1 y2))"
      ]
     },
     "execution_count": 3,
     "metadata": {},
     "output_type": "execute_result"
    }
   ],
   "source": [
    "(cdr '((x1 x2) (y1 y2)))"
   ]
  },
  {
   "cell_type": "code",
   "execution_count": 4,
   "metadata": {
    "collapsed": false
   },
   "outputs": [
    {
     "data": {
      "text/plain": [
       "(y1 y2)"
      ]
     },
     "execution_count": 4,
     "metadata": {},
     "output_type": "execute_result"
    }
   ],
   "source": [
    "(cadr '((x1 x2) (y1 y2)))"
   ]
  },
  {
   "cell_type": "code",
   "execution_count": 5,
   "metadata": {
    "collapsed": false
   },
   "outputs": [
    {
     "data": {
      "text/plain": [
       "#f"
      ]
     },
     "execution_count": 5,
     "metadata": {},
     "output_type": "execute_result"
    }
   ],
   "source": [
    "(pair? (car '(a short list))) ; ~~> (pair? 'a) thus #f"
   ]
  },
  {
   "cell_type": "code",
   "execution_count": 6,
   "metadata": {
    "collapsed": false
   },
   "outputs": [
    {
     "data": {
      "text/plain": [
       "#f"
      ]
     },
     "execution_count": 6,
     "metadata": {},
     "output_type": "execute_result"
    }
   ],
   "source": [
    "(memq 'red '((red shoes) (lue socks))) ; memq doesn't deal with nested list, thus #f"
   ]
  },
  {
   "cell_type": "code",
   "execution_count": 7,
   "metadata": {
    "collapsed": false
   },
   "outputs": [
    {
     "data": {
      "text/plain": [
       "(red shoes blue socks)"
      ]
     },
     "execution_count": 7,
     "metadata": {},
     "output_type": "execute_result"
    }
   ],
   "source": [
    "(memq 'red '(red shoes blue socks))"
   ]
  },
  {
   "cell_type": "markdown",
   "metadata": {},
   "source": [
    "### Exercise 2.54"
   ]
  },
  {
   "cell_type": "code",
   "execution_count": 8,
   "metadata": {
    "collapsed": true
   },
   "outputs": [],
   "source": [
    "(define (my-equal? xs ys)\n",
    "  (cond\n",
    "    [(and (pair? xs) (pair? ys))\n",
    "     (and (my-equal? (car xs) (car ys))\n",
    "          (my-equal? (cdr xs) (cdr ys)))]\n",
    "    [else (eq? xs ys)]))"
   ]
  },
  {
   "cell_type": "code",
   "execution_count": 9,
   "metadata": {
    "collapsed": false
   },
   "outputs": [
    {
     "data": {
      "text/plain": [
       "(#t #f #t #f)"
      ]
     },
     "execution_count": 9,
     "metadata": {},
     "output_type": "execute_result"
    }
   ],
   "source": [
    "(list\n",
    " (my-equal? 'a 'a)\n",
    " (my-equal? 'a 'b)\n",
    " (my-equal? 3 3)\n",
    " (my-equal? 4 3))"
   ]
  },
  {
   "cell_type": "code",
   "execution_count": 10,
   "metadata": {
    "collapsed": false
   },
   "outputs": [
    {
     "data": {
      "text/plain": [
       "(#t #t #f #f #f)"
      ]
     },
     "execution_count": 10,
     "metadata": {},
     "output_type": "execute_result"
    }
   ],
   "source": [
    "(list\n",
    " (my-equal? '(a b c) '(a b c))\n",
    " (my-equal? '(a (b) c) '(a (b) c))\n",
    " (my-equal? '(a (b) c) '(a (b d) c))\n",
    " (my-equal? '(a b c) 'a)\n",
    " (my-equal? '(a b c) '(b c a)))"
   ]
  },
  {
   "cell_type": "markdown",
   "metadata": {},
   "source": [
    "### Exercise 2.55"
   ]
  },
  {
   "cell_type": "code",
   "execution_count": 11,
   "metadata": {
    "collapsed": false
   },
   "outputs": [
    {
     "data": {
      "text/plain": [
       "quote"
      ]
     },
     "execution_count": 11,
     "metadata": {},
     "output_type": "execute_result"
    }
   ],
   "source": [
    "(car ''abracadabra) ; ~~> (car '(quote abracadabra)) ~~> 'quote"
   ]
  },
  {
   "cell_type": "markdown",
   "metadata": {},
   "source": [
    "## §§2.3.2 Example: Symbolic Differentiation"
   ]
  },
  {
   "cell_type": "code",
   "execution_count": 12,
   "metadata": {
    "collapsed": false
   },
   "outputs": [
    {
     "data": {
      "text/plain": [
       "0"
      ]
     },
     "execution_count": 12,
     "metadata": {},
     "output_type": "execute_result"
    }
   ],
   "source": [
    "(if #t 0\n",
    "  (list ; we just wish that we have the following; we just wish...\n",
    "   (variable? e)\n",
    "   (same-variable? v1 v2)\n",
    "   \n",
    "   (sum? e)\n",
    "   (addend e)\n",
    "   (augend e)\n",
    "   (make-sum a1 a2)\n",
    "   \n",
    "   (product? e)\n",
    "   (multiplier e)\n",
    "   (multiplicant e)\n",
    "   (make-product m1 m2)))"
   ]
  },
  {
   "cell_type": "code",
   "execution_count": 13,
   "metadata": {
    "collapsed": false
   },
   "outputs": [],
   "source": [
    "(define (deriv exp var)\n",
    "  (cond [(number? exp) 0]\n",
    "        [(variable? exp)\n",
    "         (if (same-variable? exp var) 1 0)]\n",
    "        [(sum? exp)\n",
    "         (make-sum (deriv (addend exp) var)\n",
    "                   (deriv (augend exp) var))]\n",
    "        [(product? exp)\n",
    "         (make-sum\n",
    "          (make-product (multiplier exp)\n",
    "                        (deriv (multiplicand exp) var))\n",
    "          (make-product (multiplicand exp)\n",
    "                        (deriv (multiplier exp) var)))]\n",
    "        [else (error \"what are you feeding me? is that dog food?! -- DERIV\") exp]))"
   ]
  },
  {
   "cell_type": "code",
   "execution_count": 14,
   "metadata": {
    "collapsed": false
   },
   "outputs": [],
   "source": [
    ";; we use symbols to represent variables\n",
    "(define (variable? e) (symbol? e))\n",
    "(define (same-variable? v1 v2)\n",
    "  (and (variable? v1) (variable? v2) (eq? v1 v2)))\n",
    "\n",
    ";; we use lists of the form ('+ e1 e2) to represent sums\n",
    "(define (sum? e)\n",
    "  (and (pair? e) (eq? (car e) '+)))\n",
    "(define (make-sum a1 a2) (list '+ a1 a2))\n",
    "(define (addend e) (cadr e))\n",
    "(define (augend e) (caddr e))\n",
    "\n",
    ";; we use lists of the form ('* e1 e2) to represent products\n",
    "(define (product? e)\n",
    "  (and (pair? e) (eq? (car e) '*)))\n",
    "(define (make-product m1 m2) (list '* m1 m2))\n",
    "(define (multiplier e) (cadr e))\n",
    "(define (multiplicand e) (caddr e))"
   ]
  },
  {
   "cell_type": "code",
   "execution_count": 15,
   "metadata": {
    "collapsed": false
   },
   "outputs": [
    {
     "data": {
      "text/plain": [
       "(+ 1 0)"
      ]
     },
     "execution_count": 15,
     "metadata": {},
     "output_type": "execute_result"
    }
   ],
   "source": [
    "(deriv '(+ x 3) 'x)"
   ]
  },
  {
   "cell_type": "code",
   "execution_count": 16,
   "metadata": {
    "collapsed": false
   },
   "outputs": [
    {
     "data": {
      "text/plain": [
       "(+ (* (* x y) (+ 1 0)) (* (+ x 3) (+ (* x 0) (* y 1))))"
      ]
     },
     "execution_count": 16,
     "metadata": {},
     "output_type": "execute_result"
    }
   ],
   "source": [
    "(deriv '(* (* x y) (+ x 3)) 'x)"
   ]
  },
  {
   "cell_type": "code",
   "execution_count": 17,
   "metadata": {
    "collapsed": true
   },
   "outputs": [],
   "source": [
    "(define (make-sum a1 a2)\n",
    "  (cond [(and (number? a1) (number? a2)) (+ a1 a2)]\n",
    "        [(eqv? 0 a1) a2]\n",
    "        [(eqv? 0 a2) a1]\n",
    "        [else (list '+ a1 a2)]))\n",
    "\n",
    "(define (make-product m1 m2)\n",
    "  (cond [(and (number? m1) (number? m2)) (* m1 m2)]\n",
    "        [(eqv? 1 m1) m2]\n",
    "        [(eqv? 1 m2) m1]\n",
    "        [(or (eqv? 0 m1) (eqv? 0 m2)) 0]\n",
    "        [else (list '* m1 m2)]))"
   ]
  },
  {
   "cell_type": "code",
   "execution_count": 18,
   "metadata": {
    "collapsed": false
   },
   "outputs": [
    {
     "data": {
      "text/plain": [
       "1"
      ]
     },
     "execution_count": 18,
     "metadata": {},
     "output_type": "execute_result"
    }
   ],
   "source": [
    "(deriv '(+ x 3) 'x)"
   ]
  },
  {
   "cell_type": "code",
   "execution_count": 19,
   "metadata": {
    "collapsed": false
   },
   "outputs": [
    {
     "data": {
      "text/plain": [
       "y"
      ]
     },
     "execution_count": 19,
     "metadata": {},
     "output_type": "execute_result"
    }
   ],
   "source": [
    "(deriv '(* x y) 'x)"
   ]
  },
  {
   "cell_type": "code",
   "execution_count": 20,
   "metadata": {
    "collapsed": false
   },
   "outputs": [
    {
     "data": {
      "text/plain": [
       "(+ (* x y) (* (+ x 3) y))"
      ]
     },
     "execution_count": 20,
     "metadata": {},
     "output_type": "execute_result"
    }
   ],
   "source": [
    "(deriv '(* (* x y) (+ x 3)) 'x)"
   ]
  },
  {
   "cell_type": "code",
   "execution_count": 21,
   "metadata": {
    "collapsed": false
   },
   "outputs": [
    {
     "data": {
      "text/plain": [
       "(+ (* x y) (* (+ x 3) y))"
      ]
     },
     "execution_count": 21,
     "metadata": {},
     "output_type": "execute_result"
    }
   ],
   "source": [
    "(deriv '(* (* x y) (+ x 3)) 'x)"
   ]
  },
  {
   "cell_type": "markdown",
   "metadata": {},
   "source": [
    "### Exercise 2.56"
   ]
  },
  {
   "cell_type": "code",
   "execution_count": 22,
   "metadata": {
    "collapsed": true
   },
   "outputs": [],
   "source": [
    "(define (deriv exp var)\n",
    "  (cond [(number? exp) 0]\n",
    "        [(variable? exp)\n",
    "         (if (same-variable? exp var) 1 0)]\n",
    "        [(sum? exp)\n",
    "         (make-sum (deriv (addend exp) var)\n",
    "                   (deriv (augend exp) var))]\n",
    "        [(product? exp)\n",
    "         (make-sum\n",
    "          (make-product (multiplier exp)\n",
    "                        (deriv (multiplicand exp) var))\n",
    "          (make-product (multiplicand exp)\n",
    "                        (deriv (multiplier exp) var)))]\n",
    "        [(exponentiation? exp)\n",
    "         (make-product (exponent exp)\n",
    "                       (make-product (make-exponentiation (base exp) (- (exponent exp) 1))\n",
    "                                     (deriv (base exp) var)))]\n",
    "        [else (error \"what are you feeding me? is that dog food?! -- DERIV\") exp]))\n",
    "\n",
    ";; we use lists of form '(** x a) to express exponentiations.\n",
    ";; we restrict a to be a number\n",
    "(define (exponentiation? e) (and (pair? e) (eq? (car e) '**)))\n",
    "(define (base e) (cadr e))\n",
    "(define (exponent e) (caddr e))\n",
    "(define (make-exponentiation x a)\n",
    "  (cond [(eqv? x 0) 0]\n",
    "        [(eqv? x 1) 1]\n",
    "        [(eqv? a 0) 1]\n",
    "        [(eqv? a 1) x]\n",
    "        [else (list '** x a)]))"
   ]
  },
  {
   "cell_type": "code",
   "execution_count": 23,
   "metadata": {
    "collapsed": false
   },
   "outputs": [
    {
     "data": {
      "text/plain": [
       "(* 3 (** x 2))"
      ]
     },
     "execution_count": 23,
     "metadata": {},
     "output_type": "execute_result"
    }
   ],
   "source": [
    "(deriv '(** x 3) 'x)"
   ]
  },
  {
   "cell_type": "code",
   "execution_count": 24,
   "metadata": {
    "collapsed": false
   },
   "outputs": [
    {
     "data": {
      "text/plain": [
       "(* 3 (* (** (+ (** x 6) (* 2 x)) 2) (+ (* 6 (** x 5)) 2)))"
      ]
     },
     "execution_count": 24,
     "metadata": {},
     "output_type": "execute_result"
    }
   ],
   "source": [
    "(deriv '(** (+ (** x 6) (* 2 x)) 3) 'x)"
   ]
  },
  {
   "cell_type": "markdown",
   "metadata": {},
   "source": [
    "### Exercise 2.57"
   ]
  },
  {
   "cell_type": "code",
   "execution_count": 25,
   "metadata": {
    "collapsed": true
   },
   "outputs": [],
   "source": [
    "%include \"/library/prelude.scm\"\n",
    ";; we are going to use `fn` and `rec` defined there\n",
    ";; the file also defines some high-order list functions"
   ]
  },
  {
   "cell_type": "markdown",
   "metadata": {},
   "source": [
    "#### Straightforward implementation\n",
    "\n",
    "Since we know that\n",
    "\n",
    "\\begin{align}\n",
    "\\frac{\\partial}{\\partial x} (f_1(x) + f_2(x) + \\cdots + f_n(x))\n",
    "  \\; = \\; & f_1'(x) + f_2'(x) + \\cdots + f_n'(x) \\\\\n",
    "\\frac{\\partial}{\\partial x} (f_1(x) \\cdot f_2(x) \\cdot \\cdots \\cdot f_n(x))\n",
    "  \\; = \\; & f_1'(x) \\cdot f_2(x) \\cdot \\cdots \\cdot f_n(x) \\\\\n",
    "     + \\; & f_2'(x) \\cdot f_1(x) \\cdot \\cdots \\cdot f_n(x) \\\\\n",
    "     + \\; & \\cdots \\\\\n",
    "     + \\; & f_n'(x) \\cdot f_1(x) \\cdot f_2(x) \\cdot \\cdots \\cdot f_{n-1}(x)\n",
    "\\end{align}\n",
    "\n",
    "It's quite straightforward to re-write the `deriv` function using higher order functions on lists (e.g. `map`).\n",
    "\n",
    "The trick is that we want a higher order function in implementing the derivative of products that pick each element (with the else of the list) from a list, which we call it `pick` (and a corresponding map-function, `pick-map`) and will implement it later."
   ]
  },
  {
   "cell_type": "code",
   "execution_count": 26,
   "metadata": {
    "collapsed": true
   },
   "outputs": [],
   "source": [
    "(define (deriv exp var)\n",
    "  (define (D e) (deriv e var))\n",
    "  (cond [(number? exp) 0]\n",
    "        [(variable? exp)\n",
    "         (if (same-variable? exp var) 1 0)]\n",
    "        [(sum? exp)\n",
    "         (make-sum (map D (terms exp)))]\n",
    "        [(product? exp)\n",
    "         (make-sum\n",
    "          (pick-map (fn (e es) (make-product (cons (D e) es)))\n",
    "                    (terms exp)))]\n",
    "        [(exponentiation? exp)\n",
    "         (make-product-lit (exponent exp)\n",
    "                           (make-product-lit\n",
    "                             (make-exponentiation (base exp) (- (exponent exp) 1))\n",
    "                             (deriv (base exp) var)))]\n",
    "        [else (error \"what are you feeding me? is that dog food?! -- DERIV\") exp]))\n",
    "\n",
    ";; we use lists of the form ('+ e1 e2 ...) to represent sums\n",
    "(define (sum? e)\n",
    "  (and (pair? e) (eq? (car e) '+)))\n",
    "(define (make-sum terms) (cons '+ terms))\n",
    "(define (make-sum-lit a1 a2) (make-sum (list a1 a2)))\n",
    "(define (terms e) (cdr e))\n",
    "\n",
    ";; we use lists of the form ('* e1 e2 ...) to represent products\n",
    "(define (product? e)\n",
    "  (and (pair? e) (eq? (car e) '*)))\n",
    "(define (make-product factors) (cons '* factors))\n",
    "(define (make-product-lit m1 m2) (make-product (list m1 m2)))\n",
    "(define (factors e) (cdr e))"
   ]
  },
  {
   "cell_type": "markdown",
   "metadata": {},
   "source": [
    "#### `pick` and `pick-map`"
   ]
  },
  {
   "cell_type": "code",
   "execution_count": 27,
   "metadata": {
    "collapsed": false
   },
   "outputs": [],
   "source": [
    "(define (pick xs)\n",
    "  (define (F front tail acc)\n",
    "    (if (null? tail) acc\n",
    "        (F (cons (car tail) front)\n",
    "           (cdr tail)\n",
    "           (cons (cons (car tail) (append (reverse front) (cdr tail))) acc))))\n",
    "  (reverse (F '() xs '())))\n",
    "(define (pick-map f xs)\n",
    "  (map (fn (p) (f (car p) (cdr p))) (pick xs)))"
   ]
  },
  {
   "cell_type": "code",
   "execution_count": 28,
   "metadata": {
    "collapsed": false
   },
   "outputs": [
    {
     "data": {
      "text/plain": [
       "((0 1 2 3 4) (1 0 2 3 4) (2 0 1 3 4) (3 0 1 2 4) (4 0 1 2 3))"
      ]
     },
     "execution_count": 28,
     "metadata": {},
     "output_type": "execute_result"
    }
   ],
   "source": [
    "(pick (range 5))"
   ]
  },
  {
   "cell_type": "code",
   "execution_count": 29,
   "metadata": {
    "collapsed": false
   },
   "outputs": [
    {
     "data": {
      "text/plain": [
       "(((1 2 3 4) . 0) ((0 2 3 4) . 1) ((0 1 3 4) . 2) ((0 1 2 4) . 3) ((0 1 2 3) . 4))"
      ]
     },
     "execution_count": 29,
     "metadata": {},
     "output_type": "execute_result"
    }
   ],
   "source": [
    "(pick-map (fn (x xs) (cons xs x)) (range 5))"
   ]
  },
  {
   "cell_type": "markdown",
   "metadata": {},
   "source": [
    "#### Refinements of constructors `make-sum` and `make-product`"
   ]
  },
  {
   "cell_type": "code",
   "execution_count": 30,
   "metadata": {
    "collapsed": false
   },
   "outputs": [],
   "source": [
    "(define (make-sum terms)\n",
    "  (define filtered (filter-out (eqv-pred 0) terms))\n",
    "  (cond [(null? filtered) 0]\n",
    "        [(forall number? terms) (sum filtered)]\n",
    "        [(singleton? filtered) (car filtered)]\n",
    "        [else (cons '+ filtered)]))\n",
    "(define (make-product factors)\n",
    "  (define (prod xs) (foldl * 1 xs))\n",
    "  (define filtered (filter-out (eqv-pred 1) factors))\n",
    "  (cond [(null? filtered) 1]\n",
    "        [(forall number? filtered) (prod filtered)]\n",
    "        [(exists (eqv-pred 0) filtered) 0]\n",
    "        [(singleton? filtered) (car filtered)]\n",
    "        [else (cons '* filtered)]))\n",
    "\n",
    "(define (filter-out pred xs) (filter (negate pred) xs))\n",
    "(define (eqv-pred x) (fn (y) (eqv? x y)))"
   ]
  },
  {
   "cell_type": "markdown",
   "metadata": {},
   "source": [
    "#### Tryouts"
   ]
  },
  {
   "cell_type": "code",
   "execution_count": 31,
   "metadata": {
    "collapsed": false
   },
   "outputs": [
    {
     "data": {
      "text/plain": [
       "(* 3 (* (** (+ (** x 6) (* 2 x)) 2) (+ (* 6 (** x 5)) 2)))"
      ]
     },
     "execution_count": 31,
     "metadata": {},
     "output_type": "execute_result"
    }
   ],
   "source": [
    "(deriv '(** (+ (** x 6) (* 2 x)) 3) 'x)"
   ]
  },
  {
   "cell_type": "code",
   "execution_count": 32,
   "metadata": {
    "collapsed": false
   },
   "outputs": [
    {
     "data": {
      "text/plain": [
       "(+ 3 4 (* (* 2 x) y))"
      ]
     },
     "execution_count": 32,
     "metadata": {},
     "output_type": "execute_result"
    }
   ],
   "source": [
    "(deriv '(+ (* 3 x) (* 4 x) (* (** x 2) y)) 'x)"
   ]
  },
  {
   "cell_type": "code",
   "execution_count": 33,
   "metadata": {
    "collapsed": false
   },
   "outputs": [
    {
     "data": {
      "text/plain": [
       "(+ (* (+ 3 4 (* (* 2 x) y)) y x) (* (+ (* 3 x) (* 4 x) (* (** x 2) y)) y))"
      ]
     },
     "execution_count": 33,
     "metadata": {},
     "output_type": "execute_result"
    }
   ],
   "source": [
    "(deriv '(* (+ (* 3 x) (* 4 x) (* (** x 2) y)) y x) 'x)"
   ]
  },
  {
   "cell_type": "markdown",
   "metadata": {},
   "source": [
    "### Exercise 2.58 (a)\n",
    "\n",
    "The key for this exercise is the `interpose` higher-order list function. What it does is to insert a /separator/ in between of every consecutive pairs of elements in a list.\n",
    "\n",
    "E.g.\n",
    "````\n",
    "(interpose '+ '(1 2 3)) ~~> '(1 + 2 + 3)\n",
    "(interpose '$ '(4 (3 2) 1)) ~~> '(4 $ (3 2) $ 1)\n",
    "````\n",
    "\n",
    "Of course you also need to realize that the `algebraic->infix` function is recursive, in the sense that every subexpression of an algebraic expression should also be converted to the infix form. This is obvious since you should have noticed that the algebraic expressions are structurally trees."
   ]
  },
  {
   "cell_type": "code",
   "execution_count": 34,
   "metadata": {
    "collapsed": false
   },
   "outputs": [],
   "source": [
    "(define (algebraic->infix e)\n",
    "  (cond [(number? e) e]\n",
    "        [(variable? e) e]\n",
    "        [(sum? e) (interpose '+ (map algebraic->infix (terms e)))]\n",
    "        [(product? e) (interpose '* (map algebraic->infix (factors e)))]\n",
    "        [(exponentiation? e) (list (base e) '** (exponent e))]))\n",
    "\n",
    "(define (deriv-pp e var) (algebraic->infix (deriv e var)))"
   ]
  },
  {
   "cell_type": "code",
   "execution_count": 35,
   "metadata": {
    "collapsed": false
   },
   "outputs": [
    {
     "data": {
      "text/plain": [
       "(3 + 4 + ((2 * x) * y))"
      ]
     },
     "execution_count": 35,
     "metadata": {},
     "output_type": "execute_result"
    }
   ],
   "source": [
    "(deriv-pp '(+ (* 3 x) (* 4 x) (* (** x 2) y)) 'x)"
   ]
  },
  {
   "cell_type": "code",
   "execution_count": 36,
   "metadata": {
    "collapsed": false
   },
   "outputs": [
    {
     "data": {
      "text/plain": [
       "(((3 + 4 + ((2 * x) * y)) * y * x) + (((3 * x) + (4 * x) + ((x ** 2) * y)) * y))"
      ]
     },
     "execution_count": 36,
     "metadata": {},
     "output_type": "execute_result"
    }
   ],
   "source": [
    "(deriv-pp '(* (+ (* 3 x) (* 4 x) (* (** x 2) y)) y x) 'x)"
   ]
  },
  {
   "cell_type": "markdown",
   "metadata": {},
   "source": [
    "### Exercise 2.58 (b)"
   ]
  },
  {
   "cell_type": "markdown",
   "metadata": {},
   "source": [
    "Actually this is known as the \"parsing problem\". It is known to be possible to parse infix algebraic expressions and the language of those expressions are known to be in the Context Free Language class.\n",
    "\n",
    "An implementation for the parser is skipped here for now. If you're interested, consult the Internet."
   ]
  },
  {
   "cell_type": "markdown",
   "metadata": {},
   "source": [
    "## §§2.3.3 Example: Representing Sets"
   ]
  },
  {
   "cell_type": "code",
   "execution_count": 114,
   "metadata": {
    "collapsed": true
   },
   "outputs": [],
   "source": [
    "%include \"/library/prelude.scm\""
   ]
  },
  {
   "cell_type": "code",
   "execution_count": 1,
   "metadata": {
    "collapsed": false
   },
   "outputs": [
    {
     "data": {
      "text/plain": [
       "#f"
      ]
     },
     "execution_count": 1,
     "metadata": {},
     "output_type": "execute_result"
    }
   ],
   "source": [
    ";; let's plan what operations we want for the set ADT\n",
    "(if #t #f\n",
    " (list\n",
    "  (empty-set) ; somehow there's no mention of empty-set in the book, but\n",
    "              ; we should need it\n",
    "  (make-set xs) ; this will come convenient for trying other operations\n",
    "  (ajoin-set x set)\n",
    "  (union-set set1 set2)\n",
    "  (intersection-set set1 set2)\n",
    "  (element-of-set? x set)\n",
    "  (empty-set? set))) ; empty-set? is also something we should have"
   ]
  },
  {
   "cell_type": "markdown",
   "metadata": {},
   "source": [
    "### Sets as unordered lists (also Exercise 2.59)"
   ]
  },
  {
   "cell_type": "code",
   "execution_count": 28,
   "metadata": {
    "collapsed": true
   },
   "outputs": [],
   "source": [
    "(define (empty-set) '())\n",
    "(define (ajoin-set x set)\n",
    "  (if (element-of-set? x set) set\n",
    "      (cons x set)))\n",
    "(define (union-set set1 set2)\n",
    "  (cond [(null? set1) set2]\n",
    "        [(null? set2) set1]\n",
    "        [else (union-set (cdr set1)\n",
    "                         (ajoin-set (car set1) set2))]))\n",
    "(define (intersection-set set1 set2)\n",
    "  (cond [(or (null? set1) (null? set2)) (empty-set)]\n",
    "        [else (filter (curry2 element-of-set? set1) set2)]))\n",
    "(define (element-of-set? x set)\n",
    "  (exists (curry equal? x) set))\n",
    "(define (empty-set? set) (null? set))"
   ]
  },
  {
   "cell_type": "markdown",
   "metadata": {},
   "source": [
    "### Exercise 2.60"
   ]
  },
  {
   "cell_type": "code",
   "execution_count": 18,
   "metadata": {
    "collapsed": true
   },
   "outputs": [],
   "source": [
    "(define (make-set xs)\n",
    "  (define (F xs acc)\n",
    "    (if (null? xs) acc\n",
    "        (F (cdr xs) (ajoin-set (car xs) acc))))\n",
    "  (F xs (empty-set)))"
   ]
  },
  {
   "cell_type": "markdown",
   "metadata": {},
   "source": [
    "Yes. If we want to prioritize the `ajoin-set` operation, then a duplicate-allowed list representation would be more efficient ($O(1)$ vs. $O(n)$)."
   ]
  },
  {
   "cell_type": "markdown",
   "metadata": {},
   "source": [
    "#### Tryouts"
   ]
  },
  {
   "cell_type": "code",
   "execution_count": 19,
   "metadata": {
    "collapsed": false
   },
   "outputs": [
    {
     "data": {
      "text/plain": [
       "(9 8 7 6 5 4 3 2 1 0)"
      ]
     },
     "execution_count": 19,
     "metadata": {},
     "output_type": "execute_result"
    }
   ],
   "source": [
    "(make-set (range 10))"
   ]
  },
  {
   "cell_type": "code",
   "execution_count": 20,
   "metadata": {
    "collapsed": false
   },
   "outputs": [
    {
     "data": {
      "text/plain": [
       "((4 3 2 1) (3 6 5 4))"
      ]
     },
     "execution_count": 20,
     "metadata": {},
     "output_type": "execute_result"
    }
   ],
   "source": [
    "(define X (make-set '(1 2 3 3 2 1 2 4 3 2)))\n",
    "(define Y (make-set '(4 5 6 4 5 3)))\n",
    "(list X Y)"
   ]
  },
  {
   "cell_type": "code",
   "execution_count": 21,
   "metadata": {
    "collapsed": false
   },
   "outputs": [
    {
     "data": {
      "text/plain": [
       "(1 2 3 6 5 4)"
      ]
     },
     "execution_count": 21,
     "metadata": {},
     "output_type": "execute_result"
    }
   ],
   "source": [
    "(union-set X Y)"
   ]
  },
  {
   "cell_type": "code",
   "execution_count": 22,
   "metadata": {
    "collapsed": false
   },
   "outputs": [
    {
     "data": {
      "text/plain": [
       "(3 4)"
      ]
     },
     "execution_count": 22,
     "metadata": {},
     "output_type": "execute_result"
    }
   ],
   "source": [
    "(intersection-set X Y)"
   ]
  },
  {
   "cell_type": "code",
   "execution_count": 25,
   "metadata": {
    "collapsed": false
   },
   "outputs": [
    {
     "data": {
      "text/plain": [
       "(a 4 3 2 1)"
      ]
     },
     "execution_count": 25,
     "metadata": {},
     "output_type": "execute_result"
    }
   ],
   "source": [
    "(ajoin-set 'a X)"
   ]
  },
  {
   "cell_type": "code",
   "execution_count": 26,
   "metadata": {
    "collapsed": false
   },
   "outputs": [
    {
     "data": {
      "text/plain": [
       "(4 3 2 1)"
      ]
     },
     "execution_count": 26,
     "metadata": {},
     "output_type": "execute_result"
    }
   ],
   "source": [
    "(ajoin-set 2 X)"
   ]
  },
  {
   "cell_type": "markdown",
   "metadata": {},
   "source": [
    "### Sets as orderd lists (also Exercise 2.61 & 2.62)\n",
    "\n",
    "We use `eqv?` instead of `=` as in the book so that our version could deal with both numbers and symbols (hopefully also some other primitive data types)."
   ]
  },
  {
   "cell_type": "code",
   "execution_count": 154,
   "metadata": {
    "collapsed": false
   },
   "outputs": [],
   "source": [
    "(define (make-set xs) (uniq (sort < xs)))\n",
    "(define (element-of-set? x set)\n",
    "  (cond [(null? set) #f]\n",
    "        [(eqv? x (car set)) #t]\n",
    "        [(< x (car set)) #f]\n",
    "        [else (element-of-set? x (cdr set))]))\n",
    "(define (ajoin-set x set)\n",
    "  (cond [(null? set) (list x)]\n",
    "        [(eqv? x (car set)) set]\n",
    "        [(< x (car set)) (cons x set)]\n",
    "        [(> x (car set)) (cons (car set)\n",
    "                               (ajoin-set x (cdr set)))]))\n",
    "(define (intersection-set set1 set2)\n",
    "  (cond [(or (null? set1) (null? set2)) (empty-set)]\n",
    "        [(eqv? (car set1) (car set2)) (cons (car set1)\n",
    "                                            (intersection-set\n",
    "                                              (cdr set1)\n",
    "                                              (cdr set2)))]\n",
    "        [(< (car set1) (car set2)) (intersection-set (cdr set1) set2)]\n",
    "        [(> (car set1) (car set2)) (intersection-set set1 (cdr set2))]))\n",
    "(define (union-set set1 set2)\n",
    "  (cond [(null? set1) set2]\n",
    "        [(null? set2) set1]\n",
    "        [(eqv? (car set1) (car set2)) (cons (car set1)\n",
    "                                            (union-set (cdr set1)\n",
    "                                                       (cdr set2)))]\n",
    "        [(< (car set1) (car set2)) (cons (car set1)\n",
    "                                         (union-set (cdr set1) set2))]\n",
    "        [(> (car set1) (car set2)) (cons (car set2)\n",
    "                                         (union-set set1 (cdr set2)))]))\n",
    "\n",
    "(define (uniq-gen equiv sorted-list)\n",
    "  (define (F xs acc)\n",
    "    (cond [(null? xs) acc]\n",
    "          [(null? acc) (F (cdr xs) (list (car xs)))]\n",
    "          [else (F (cdr xs)\n",
    "                   (if (equiv (car xs) (car acc)) acc\n",
    "                       (cons (car xs) acc)))]))\n",
    "  (reverse (F sorted-list '())))\n",
    "(define uniq (curry uniq-gen equal?))"
   ]
  },
  {
   "cell_type": "code",
   "execution_count": 3,
   "metadata": {
    "collapsed": false
   },
   "outputs": [
    {
     "data": {
      "text/plain": [
       "(0 1 2 3 4 5 6 7 8 9)"
      ]
     },
     "execution_count": 3,
     "metadata": {},
     "output_type": "execute_result"
    }
   ],
   "source": [
    "(make-set (range 10))"
   ]
  },
  {
   "cell_type": "code",
   "execution_count": 30,
   "metadata": {
    "collapsed": false
   },
   "outputs": [
    {
     "data": {
      "text/plain": [
       "((1 2 3 4) (3 4 5 6))"
      ]
     },
     "execution_count": 30,
     "metadata": {},
     "output_type": "execute_result"
    }
   ],
   "source": [
    "(define X (make-set '(1 2 3 3 2 1 2 4 3 2)))\n",
    "(define Y (make-set '(4 5 6 4 5 3)))\n",
    "(list X Y)"
   ]
  },
  {
   "cell_type": "code",
   "execution_count": 31,
   "metadata": {
    "collapsed": false
   },
   "outputs": [
    {
     "data": {
      "text/plain": [
       "(1 2 3 4 5 6)"
      ]
     },
     "execution_count": 31,
     "metadata": {},
     "output_type": "execute_result"
    }
   ],
   "source": [
    "(union-set X Y)"
   ]
  },
  {
   "cell_type": "code",
   "execution_count": 32,
   "metadata": {
    "collapsed": false
   },
   "outputs": [
    {
     "data": {
      "text/plain": [
       "(3 4)"
      ]
     },
     "execution_count": 32,
     "metadata": {},
     "output_type": "execute_result"
    }
   ],
   "source": [
    "(intersection-set X Y)"
   ]
  },
  {
   "cell_type": "code",
   "execution_count": 34,
   "metadata": {
    "collapsed": false
   },
   "outputs": [
    {
     "data": {
      "text/plain": [
       "(1 2 3 4 100)"
      ]
     },
     "execution_count": 34,
     "metadata": {},
     "output_type": "execute_result"
    }
   ],
   "source": [
    "(ajoin-set 100 X)"
   ]
  },
  {
   "cell_type": "code",
   "execution_count": 35,
   "metadata": {
    "collapsed": false
   },
   "outputs": [
    {
     "data": {
      "text/plain": [
       "(1 2 3 4)"
      ]
     },
     "execution_count": 35,
     "metadata": {},
     "output_type": "execute_result"
    }
   ],
   "source": [
    "(ajoin-set 2 X)"
   ]
  },
  {
   "cell_type": "markdown",
   "metadata": {},
   "source": [
    "### Sets as binary trees"
   ]
  },
  {
   "cell_type": "code",
   "execution_count": 106,
   "metadata": {
    "collapsed": true
   },
   "outputs": [],
   "source": [
    ";; instead of left/right-branch, we call them left/right-child\n",
    ";; and use lch/rch to refer to them\n",
    "\n",
    "(define (make-tree entry lch rch) (list entry lch rch))\n",
    "(define (entry tree) (car tree))\n",
    "(define (lch tree) (cadr tree))\n",
    "(define (rch tree) (caddr tree))\n",
    "(define (leaf? tree) (and (pair? tree)\n",
    "                          (null? (lch tree))\n",
    "                          (null? (rch tree))))\n",
    "\n",
    "(define (element-of-set? x set)\n",
    "  (cond [(null? set) #f]\n",
    "        [(eqv? x (entry set)) #t]\n",
    "        [(< x (entry set)) (element-of-set? x (lch set))]\n",
    "        [(> x (entry set)) (element-of-set? x (rch set))]))\n",
    "(define (ajoin-set x set)\n",
    "  (cond [(null? set) (make-tree x '() '())]\n",
    "        [(eqv? x (entry set)) set]\n",
    "        [(< x (entry set))\n",
    "         (make-tree (entry set)\n",
    "                    (ajoin-set x (lch set)) (rch set))]\n",
    "        [(> x (entry set))\n",
    "         (make-tree (entry set)\n",
    "                    (lch set) (ajoin-set x (rch set)))]))"
   ]
  },
  {
   "cell_type": "markdown",
   "metadata": {},
   "source": [
    "#### Exercise 2.63 & 2.64\n",
    "\n",
    "So I'm actually giving my implementation of `tree->list` and `list->tree` here. (And it happens that my `tree->list` implementation is the same as `tree->list-2`)\n",
    "\n",
    "To answer ex2.63 (a): they are the same, and they will output\n",
    "`(1 3 5 7 9 11)` for the trees in Figure 2.16. (b): apparently the second version is faster, due to the fact that firstly it never uses `append`, which is a very expensive operation, and secondly it is a tail-recursive call.\n",
    "\n",
    "To answer ex2.64: I don't bother to read the program on the book (it's so ugly!) since I have a better one :D"
   ]
  },
  {
   "cell_type": "code",
   "execution_count": 144,
   "metadata": {
    "collapsed": false
   },
   "outputs": [],
   "source": [
    "(define (make-set xs) (list->tree (uniq (sort < xs))))\n",
    "(define (tree->list tree)\n",
    "  (define (F tree acc)\n",
    "    (if (null? tree) acc\n",
    "        (F (lch tree)\n",
    "           (cons (entry tree) (F (rch tree) acc)))))\n",
    "  (F tree '()))\n",
    "(define (list->tree xs)\n",
    "  (define (F xs len)\n",
    "    (cond [(null? xs) '()]\n",
    "          [else\n",
    "           (apply (fn (as x bs) (make-tree x as bs))\n",
    "            (fold-split-map (fn (ys) (F ys (length ys)))\n",
    "                            xs len))]))\n",
    "  (define (fold-split xs len)\n",
    "    (apply (fn (as bs) (list as (car bs) (cdr bs)))\n",
    "           (split (quotient len 2) xs)))\n",
    "  (define (fold-split-map f xs len)\n",
    "    (apply (fn (as x bs) (list (f as) x (f bs)))\n",
    "           (fold-split xs len)))\n",
    "  (F xs (length xs)))\n",
    "\n",
    "(define (split n xs)\n",
    "  (define (F n xs ys)\n",
    "    (if (= n 0) (list (reverse ys) xs)\n",
    "        (F (- n 1) (cdr xs) (cons (car xs) ys))))\n",
    "  (F n xs '()))\n",
    "(define (tree-singleton x) (make-tree x '() '()))"
   ]
  },
  {
   "cell_type": "markdown",
   "metadata": {},
   "source": [
    "#### Exercise 2.65"
   ]
  },
  {
   "cell_type": "code",
   "execution_count": 137,
   "metadata": {
    "collapsed": false
   },
   "outputs": [],
   "source": [
    "(define (bst-intersection-set set1 set2)\n",
    "  (cond [(or (null? set1) (null? set2)) (empty-set)]\n",
    "        [(eqv? (car set1) (car set2)) (cons (car set1)\n",
    "                                            (bst-intersection-set\n",
    "                                              (cdr set1)\n",
    "                                              (cdr set2)))]\n",
    "        [(< (car set1) (car set2))\n",
    "         (bst-intersection-set (cdr set1) set2)]\n",
    "        [(> (car set1) (car set2))\n",
    "         (bst-intersection-set set1 (cdr set2))]))\n",
    "(define (bst-union-set set1 set2)\n",
    "  (cond [(null? set1) set2]\n",
    "        [(null? set2) set1]\n",
    "        [(eqv? (car set1) (car set2))\n",
    "         (cons (car set1)\n",
    "               (bst-union-set (cdr set1)\n",
    "                              (cdr set2)))]\n",
    "        [(< (car set1) (car set2))\n",
    "         (cons (car set1) (bst-union-set (cdr set1) set2))]\n",
    "        [(> (car set1) (car set2))\n",
    "         (cons (car set2) (bst-union-set set1 (cdr set2)))]))\n",
    "\n",
    "(define (union-set set1 set2)\n",
    "    (list->tree (bst-union-set (tree->list set1)\n",
    "                               (tree->list set2))))\n",
    "(define (intersection-set set1 set2)\n",
    "    (list->tree (bst-intersection-set (tree->list set1)\n",
    "                                      (tree->list set2))))"
   ]
  },
  {
   "cell_type": "code",
   "execution_count": 124,
   "metadata": {
    "collapsed": false
   },
   "outputs": [
    {
     "data": {
      "text/plain": [
       "(5 (2 (1 (0 () ()) ()) (4 (3 () ()) ())) (8 (7 (6 () ()) ()) (9 () ())))"
      ]
     },
     "execution_count": 124,
     "metadata": {},
     "output_type": "execute_result"
    }
   ],
   "source": [
    "(make-set (range 10))"
   ]
  },
  {
   "cell_type": "code",
   "execution_count": 125,
   "metadata": {
    "collapsed": false
   },
   "outputs": [
    {
     "data": {
      "text/plain": [
       "((3 (2 (1 () ()) ()) (4 () ())) (5 (4 (3 () ()) ()) (6 () ())))"
      ]
     },
     "execution_count": 125,
     "metadata": {},
     "output_type": "execute_result"
    }
   ],
   "source": [
    "(define X (make-set '(1 2 3 3 2 1 2 4 3 2)))\n",
    "(define Y (make-set '(4 5 6 4 5 3)))\n",
    "(list X Y)"
   ]
  },
  {
   "cell_type": "code",
   "execution_count": 145,
   "metadata": {
    "collapsed": false
   },
   "outputs": [
    {
     "data": {
      "text/plain": [
       "((1 2 3 4) (3 4 5 6))"
      ]
     },
     "execution_count": 145,
     "metadata": {},
     "output_type": "execute_result"
    }
   ],
   "source": [
    "(list (tree->list X) (tree->list Y))"
   ]
  },
  {
   "cell_type": "code",
   "execution_count": 146,
   "metadata": {
    "collapsed": false,
    "scrolled": true
   },
   "outputs": [
    {
     "data": {
      "text/plain": [
       "(1 2 3 4 5 6)"
      ]
     },
     "execution_count": 146,
     "metadata": {},
     "output_type": "execute_result"
    }
   ],
   "source": [
    "(tree->list (union-set X Y))"
   ]
  },
  {
   "cell_type": "code",
   "execution_count": 147,
   "metadata": {
    "collapsed": false
   },
   "outputs": [
    {
     "data": {
      "text/plain": [
       "(3 4)"
      ]
     },
     "execution_count": 147,
     "metadata": {},
     "output_type": "execute_result"
    }
   ],
   "source": [
    "(tree->list (intersection-set X Y))"
   ]
  },
  {
   "cell_type": "code",
   "execution_count": 148,
   "metadata": {
    "collapsed": false
   },
   "outputs": [
    {
     "data": {
      "text/plain": [
       "(1 2 3 4 100)"
      ]
     },
     "execution_count": 148,
     "metadata": {},
     "output_type": "execute_result"
    }
   ],
   "source": [
    "(tree->list (ajoin-set 100 X))"
   ]
  },
  {
   "cell_type": "code",
   "execution_count": 149,
   "metadata": {
    "collapsed": false
   },
   "outputs": [
    {
     "data": {
      "text/plain": [
       "(1 2 3 4)"
      ]
     },
     "execution_count": 149,
     "metadata": {},
     "output_type": "execute_result"
    }
   ],
   "source": [
    "(tree->list (ajoin-set 2 X))"
   ]
  },
  {
   "cell_type": "markdown",
   "metadata": {},
   "source": [
    "### Sets and information retrieval (also Exercise 2.66)"
   ]
  },
  {
   "cell_type": "code",
   "execution_count": 152,
   "metadata": {
    "collapsed": false
   },
   "outputs": [
    {
     "data": {
      "text/plain": [
       "#t"
      ]
     },
     "execution_count": 152,
     "metadata": {},
     "output_type": "execute_result"
    }
   ],
   "source": [
    ";; let's first list the procedures that we want\n",
    "(if #t #t\n",
    "  (list\n",
    "   (make-record key data)\n",
    "   (key record)\n",
    "   (data record)\n",
    "   (same-key? record1 record2)\n",
    "   \n",
    "   (empty-database)\n",
    "   (add-record record database) ; we want this operation to also override\n",
    "                                ; the existing record with the same key\n",
    "   (make-database list-of-records) ; no guarentee which records would make\n",
    "                                   ; into the database if records with same\n",
    "                                   ; keys exist\n",
    "   \n",
    "   (record-exists? key database)\n",
    "   (retrieve-record key database)\n",
    "   (retrieve-data key database))) ; aka lookup"
   ]
  },
  {
   "cell_type": "code",
   "execution_count": null,
   "metadata": {
    "collapsed": true
   },
   "outputs": [],
   "source": [
    ";; we use a binary search tree to represent the database\n",
    ";; and a pair to represent a record\n",
    "\n",
    ";; in contrast to what the book requires, we also allow the keys of records\n",
    ";; to be symbols. but it is not allowed to mix symbolic keys and numeral\n",
    ";; keys in a same database\n",
    "(define (make-record key data) (cons key data))\n",
    "(define (key record) (car record))\n",
    "(define (data record) (cdr record))\n",
    "(define (key-relation? rel r1 r2) (rel (key r1) (key r2)))\n",
    "(define (same-key? r1 r2) (key-relation? eqv? r1 r2))\n",
    "\n",
    "(define (empty-database) '())\n",
    "(define (add-record record database)\n",
    "  (cond [(null? database) (tree-singleton record)]\n",
    "        [(same-key? record (entry database))\n",
    "         (make-tree record (lch database) (rch database))]\n",
    "        [(key-relation? < record (entry database))\n",
    "         (make-tree (entry databse)\n",
    "                    (add-record record (lch database) (rch database)))]\n",
    "        [(key-relation? > record (entry database))\n",
    "         (make-tree (entry databse)\n",
    "                    (lch database) (add-record record (rch database)))]))\n",
    "(define (make-database rs)\n",
    "  (list->tree (uniq-gen same-key?\n",
    "                        (sort (curry < key-relation?)))))"
   ]
  }
 ],
 "metadata": {
  "kernelspec": {
   "display_name": "Calysto Scheme 3",
   "language": "scheme",
   "name": "calysto_scheme"
  },
  "language_info": {
   "codemirror_mode": {
    "name": "scheme"
   },
   "mimetype": "text/x-scheme",
   "name": "scheme",
   "pygments_lexer": "scheme"
  }
 },
 "nbformat": 4,
 "nbformat_minor": 0
}
