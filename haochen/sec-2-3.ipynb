{
 "cells": [
  {
   "cell_type": "markdown",
   "metadata": {},
   "source": [
    "# §2.3 Symbolic Data"
   ]
  },
  {
   "cell_type": "markdown",
   "metadata": {},
   "source": [
    "### Exercise 2.53"
   ]
  },
  {
   "cell_type": "code",
   "execution_count": 1,
   "metadata": {
    "collapsed": false
   },
   "outputs": [
    {
     "data": {
      "text/plain": [
       "(a b c)"
      ]
     },
     "execution_count": 1,
     "metadata": {},
     "output_type": "execute_result"
    }
   ],
   "source": [
    "(list 'a 'b 'c)"
   ]
  },
  {
   "cell_type": "code",
   "execution_count": 2,
   "metadata": {
    "collapsed": false
   },
   "outputs": [
    {
     "data": {
      "text/plain": [
       "((george))"
      ]
     },
     "execution_count": 2,
     "metadata": {},
     "output_type": "execute_result"
    }
   ],
   "source": [
    "(list (list 'george))"
   ]
  },
  {
   "cell_type": "code",
   "execution_count": 3,
   "metadata": {
    "collapsed": false
   },
   "outputs": [
    {
     "data": {
      "text/plain": [
       "((y1 y2))"
      ]
     },
     "execution_count": 3,
     "metadata": {},
     "output_type": "execute_result"
    }
   ],
   "source": [
    "(cdr '((x1 x2) (y1 y2)))"
   ]
  },
  {
   "cell_type": "code",
   "execution_count": 4,
   "metadata": {
    "collapsed": false
   },
   "outputs": [
    {
     "data": {
      "text/plain": [
       "(y1 y2)"
      ]
     },
     "execution_count": 4,
     "metadata": {},
     "output_type": "execute_result"
    }
   ],
   "source": [
    "(cadr '((x1 x2) (y1 y2)))"
   ]
  },
  {
   "cell_type": "code",
   "execution_count": 5,
   "metadata": {
    "collapsed": false
   },
   "outputs": [
    {
     "data": {
      "text/plain": [
       "#f"
      ]
     },
     "execution_count": 5,
     "metadata": {},
     "output_type": "execute_result"
    }
   ],
   "source": [
    "(pair? (car '(a short list))) ; ~~> (pair? 'a) thus #f"
   ]
  },
  {
   "cell_type": "code",
   "execution_count": 6,
   "metadata": {
    "collapsed": false
   },
   "outputs": [
    {
     "data": {
      "text/plain": [
       "#f"
      ]
     },
     "execution_count": 6,
     "metadata": {},
     "output_type": "execute_result"
    }
   ],
   "source": [
    "(memq 'red '((red shoes) (lue socks))) ; memq doesn't deal with nested list, thus #f"
   ]
  },
  {
   "cell_type": "code",
   "execution_count": 7,
   "metadata": {
    "collapsed": false
   },
   "outputs": [
    {
     "data": {
      "text/plain": [
       "(red shoes blue socks)"
      ]
     },
     "execution_count": 7,
     "metadata": {},
     "output_type": "execute_result"
    }
   ],
   "source": [
    "(memq 'red '(red shoes blue socks))"
   ]
  },
  {
   "cell_type": "markdown",
   "metadata": {},
   "source": [
    "### Exercise 2.54"
   ]
  },
  {
   "cell_type": "code",
   "execution_count": 8,
   "metadata": {
    "collapsed": true
   },
   "outputs": [],
   "source": [
    "(define (my-equal? xs ys)\n",
    "  (cond\n",
    "    [(and (pair? xs) (pair? ys))\n",
    "     (and (my-equal? (car xs) (car ys))\n",
    "          (my-equal? (cdr xs) (cdr ys)))]\n",
    "    [else (eq? xs ys)]))"
   ]
  },
  {
   "cell_type": "code",
   "execution_count": 9,
   "metadata": {
    "collapsed": false
   },
   "outputs": [
    {
     "data": {
      "text/plain": [
       "(#t #f #t #f)"
      ]
     },
     "execution_count": 9,
     "metadata": {},
     "output_type": "execute_result"
    }
   ],
   "source": [
    "(list\n",
    " (my-equal? 'a 'a)\n",
    " (my-equal? 'a 'b)\n",
    " (my-equal? 3 3)\n",
    " (my-equal? 4 3))"
   ]
  },
  {
   "cell_type": "code",
   "execution_count": 10,
   "metadata": {
    "collapsed": false
   },
   "outputs": [
    {
     "data": {
      "text/plain": [
       "(#t #t #f #f #f)"
      ]
     },
     "execution_count": 10,
     "metadata": {},
     "output_type": "execute_result"
    }
   ],
   "source": [
    "(list\n",
    " (my-equal? '(a b c) '(a b c))\n",
    " (my-equal? '(a (b) c) '(a (b) c))\n",
    " (my-equal? '(a (b) c) '(a (b d) c))\n",
    " (my-equal? '(a b c) 'a)\n",
    " (my-equal? '(a b c) '(b c a)))"
   ]
  },
  {
   "cell_type": "markdown",
   "metadata": {},
   "source": [
    "### Exercise 2.55"
   ]
  },
  {
   "cell_type": "code",
   "execution_count": 11,
   "metadata": {
    "collapsed": false
   },
   "outputs": [
    {
     "data": {
      "text/plain": [
       "quote"
      ]
     },
     "execution_count": 11,
     "metadata": {},
     "output_type": "execute_result"
    }
   ],
   "source": [
    "(car ''abracadabra) ; ~~> (car '(quote abracadabra)) ~~> 'quote"
   ]
  },
  {
   "cell_type": "markdown",
   "metadata": {},
   "source": [
    "## §§2.3.2 Example: Symbolic Differentiation"
   ]
  },
  {
   "cell_type": "code",
   "execution_count": 12,
   "metadata": {
    "collapsed": false
   },
   "outputs": [
    {
     "data": {
      "text/plain": [
       "0"
      ]
     },
     "execution_count": 12,
     "metadata": {},
     "output_type": "execute_result"
    }
   ],
   "source": [
    "(if #t 0\n",
    "  (list ; we just wish that we have the following; we just wish...\n",
    "   (variable? e)\n",
    "   (same-variable? v1 v2)\n",
    "   \n",
    "   (sum? e)\n",
    "   (addend e)\n",
    "   (augend e)\n",
    "   (make-sum a1 a2)\n",
    "   \n",
    "   (product? e)\n",
    "   (multiplier e)\n",
    "   (multiplicant e)\n",
    "   (make-product m1 m2)))"
   ]
  },
  {
   "cell_type": "code",
   "execution_count": 13,
   "metadata": {
    "collapsed": false
   },
   "outputs": [],
   "source": [
    "(define (deriv exp var)\n",
    "  (cond [(number? exp) 0]\n",
    "        [(variable? exp)\n",
    "         (if (same-variable? exp var) 1 0)]\n",
    "        [(sum? exp)\n",
    "         (make-sum (deriv (addend exp) var)\n",
    "                   (deriv (augend exp) var))]\n",
    "        [(product? exp)\n",
    "         (make-sum\n",
    "          (make-product (multiplier exp)\n",
    "                        (deriv (multiplicand exp) var))\n",
    "          (make-product (multiplicand exp)\n",
    "                        (deriv (multiplier exp) var)))]\n",
    "        [else (error \"what are you feeding me? is that dog food?! -- DERIV\") exp]))"
   ]
  },
  {
   "cell_type": "code",
   "execution_count": 14,
   "metadata": {
    "collapsed": false
   },
   "outputs": [],
   "source": [
    ";; we use symbols to represent variables\n",
    "(define (variable? e) (symbol? e))\n",
    "(define (same-variable? v1 v2)\n",
    "  (and (variable? v1) (variable? v2) (eq? v1 v2)))\n",
    "\n",
    ";; we use lists of the form ('+ e1 e2) to represent sums\n",
    "(define (sum? e)\n",
    "  (and (pair? e) (eq? (car e) '+)))\n",
    "(define (make-sum a1 a2) (list '+ a1 a2))\n",
    "(define (addend e) (cadr e))\n",
    "(define (augend e) (caddr e))\n",
    "\n",
    ";; we use lists of the form ('* e1 e2) to represent products\n",
    "(define (product? e)\n",
    "  (and (pair? e) (eq? (car e) '*)))\n",
    "(define (make-product m1 m2) (list '* m1 m2))\n",
    "(define (multiplier e) (cadr e))\n",
    "(define (multiplicand e) (caddr e))"
   ]
  },
  {
   "cell_type": "code",
   "execution_count": 15,
   "metadata": {
    "collapsed": false
   },
   "outputs": [
    {
     "data": {
      "text/plain": [
       "(+ 1 0)"
      ]
     },
     "execution_count": 15,
     "metadata": {},
     "output_type": "execute_result"
    }
   ],
   "source": [
    "(deriv '(+ x 3) 'x)"
   ]
  },
  {
   "cell_type": "code",
   "execution_count": 16,
   "metadata": {
    "collapsed": false
   },
   "outputs": [
    {
     "data": {
      "text/plain": [
       "(+ (* (* x y) (+ 1 0)) (* (+ x 3) (+ (* x 0) (* y 1))))"
      ]
     },
     "execution_count": 16,
     "metadata": {},
     "output_type": "execute_result"
    }
   ],
   "source": [
    "(deriv '(* (* x y) (+ x 3)) 'x)"
   ]
  },
  {
   "cell_type": "code",
   "execution_count": 17,
   "metadata": {
    "collapsed": true
   },
   "outputs": [],
   "source": [
    "(define (make-sum a1 a2)\n",
    "  (cond [(and (number? a1) (number? a2)) (+ a1 a2)]\n",
    "        [(eqv? 0 a1) a2]\n",
    "        [(eqv? 0 a2) a1]\n",
    "        [else (list '+ a1 a2)]))\n",
    "\n",
    "(define (make-product m1 m2)\n",
    "  (cond [(and (number? m1) (number? m2)) (* m1 m2)]\n",
    "        [(eqv? 1 m1) m2]\n",
    "        [(eqv? 1 m2) m1]\n",
    "        [(or (eqv? 0 m1) (eqv? 0 m2)) 0]\n",
    "        [else (list '* m1 m2)]))"
   ]
  },
  {
   "cell_type": "code",
   "execution_count": 18,
   "metadata": {
    "collapsed": false
   },
   "outputs": [
    {
     "data": {
      "text/plain": [
       "1"
      ]
     },
     "execution_count": 18,
     "metadata": {},
     "output_type": "execute_result"
    }
   ],
   "source": [
    "(deriv '(+ x 3) 'x)"
   ]
  },
  {
   "cell_type": "code",
   "execution_count": 19,
   "metadata": {
    "collapsed": false
   },
   "outputs": [
    {
     "data": {
      "text/plain": [
       "y"
      ]
     },
     "execution_count": 19,
     "metadata": {},
     "output_type": "execute_result"
    }
   ],
   "source": [
    "(deriv '(* x y) 'x)"
   ]
  },
  {
   "cell_type": "code",
   "execution_count": 20,
   "metadata": {
    "collapsed": false
   },
   "outputs": [
    {
     "data": {
      "text/plain": [
       "(+ (* x y) (* (+ x 3) y))"
      ]
     },
     "execution_count": 20,
     "metadata": {},
     "output_type": "execute_result"
    }
   ],
   "source": [
    "(deriv '(* (* x y) (+ x 3)) 'x)"
   ]
  },
  {
   "cell_type": "code",
   "execution_count": 21,
   "metadata": {
    "collapsed": false
   },
   "outputs": [
    {
     "data": {
      "text/plain": [
       "(+ (* x y) (* (+ x 3) y))"
      ]
     },
     "execution_count": 21,
     "metadata": {},
     "output_type": "execute_result"
    }
   ],
   "source": [
    "(deriv '(* (* x y) (+ x 3)) 'x)"
   ]
  },
  {
   "cell_type": "markdown",
   "metadata": {},
   "source": [
    "### Exercise 2.56"
   ]
  },
  {
   "cell_type": "code",
   "execution_count": 22,
   "metadata": {
    "collapsed": true
   },
   "outputs": [],
   "source": [
    "(define (deriv exp var)\n",
    "  (cond [(number? exp) 0]\n",
    "        [(variable? exp)\n",
    "         (if (same-variable? exp var) 1 0)]\n",
    "        [(sum? exp)\n",
    "         (make-sum (deriv (addend exp) var)\n",
    "                   (deriv (augend exp) var))]\n",
    "        [(product? exp)\n",
    "         (make-sum\n",
    "          (make-product (multiplier exp)\n",
    "                        (deriv (multiplicand exp) var))\n",
    "          (make-product (multiplicand exp)\n",
    "                        (deriv (multiplier exp) var)))]\n",
    "        [(exponentiation? exp)\n",
    "         (make-product (exponent exp)\n",
    "                       (make-product (make-exponentiation (base exp) (- (exponent exp) 1))\n",
    "                                     (deriv (base exp) var)))]\n",
    "        [else (error \"what are you feeding me? is that dog food?! -- DERIV\") exp]))\n",
    "\n",
    ";; we use lists of form '(** x a) to express exponentiations.\n",
    ";; we restrict a to be a number\n",
    "(define (exponentiation? e) (and (pair? e) (eq? (car e) '**)))\n",
    "(define (base e) (cadr e))\n",
    "(define (exponent e) (caddr e))\n",
    "(define (make-exponentiation x a)\n",
    "  (cond [(eqv? x 0) 0]\n",
    "        [(eqv? x 1) 1]\n",
    "        [(eqv? a 0) 1]\n",
    "        [(eqv? a 1) x]\n",
    "        [else (list '** x a)]))"
   ]
  },
  {
   "cell_type": "code",
   "execution_count": 23,
   "metadata": {
    "collapsed": false
   },
   "outputs": [
    {
     "data": {
      "text/plain": [
       "(* 3 (** x 2))"
      ]
     },
     "execution_count": 23,
     "metadata": {},
     "output_type": "execute_result"
    }
   ],
   "source": [
    "(deriv '(** x 3) 'x)"
   ]
  },
  {
   "cell_type": "code",
   "execution_count": 24,
   "metadata": {
    "collapsed": false
   },
   "outputs": [
    {
     "data": {
      "text/plain": [
       "(* 3 (* (** (+ (** x 6) (* 2 x)) 2) (+ (* 6 (** x 5)) 2)))"
      ]
     },
     "execution_count": 24,
     "metadata": {},
     "output_type": "execute_result"
    }
   ],
   "source": [
    "(deriv '(** (+ (** x 6) (* 2 x)) 3) 'x)"
   ]
  },
  {
   "cell_type": "markdown",
   "metadata": {},
   "source": [
    "### Exercise 2.57"
   ]
  },
  {
   "cell_type": "code",
   "execution_count": 25,
   "metadata": {
    "collapsed": true
   },
   "outputs": [],
   "source": [
    "%include \"/library/prelude.scm\"\n",
    ";; we are going to use `fn` and `rec` defined there\n",
    ";; the file also defines some high-order list functions"
   ]
  },
  {
   "cell_type": "markdown",
   "metadata": {},
   "source": [
    "#### Straightforward implementation\n",
    "\n",
    "Since we know that\n",
    "\n",
    "\\begin{align}\n",
    "\\frac{\\partial}{\\partial x} (f_1(x) + f_2(x) + \\cdots + f_n(x))\n",
    "  \\; = \\; & f_1'(x) + f_2'(x) + \\cdots + f_n'(x) \\\\\n",
    "\\frac{\\partial}{\\partial x} (f_1(x) \\cdot f_2(x) \\cdot \\cdots \\cdot f_n(x))\n",
    "  \\; = \\; & f_1'(x) \\cdot f_2(x) \\cdot \\cdots \\cdot f_n(x) \\\\\n",
    "     + \\; & f_2'(x) \\cdot f_1(x) \\cdot \\cdots \\cdot f_n(x) \\\\\n",
    "     + \\; & \\cdots \\\\\n",
    "     + \\; & f_n'(x) \\cdot f_1(x) \\cdot f_2(x) \\cdot \\cdots \\cdot f_{n-1}(x)\n",
    "\\end{align}\n",
    "\n",
    "It's quite straightforward to re-write the `deriv` function using higher order functions on lists (e.g. `map`).\n",
    "\n",
    "The trick is that we want a higher order function in implementing the derivative of products that pick each element (with the else of the list) from a list, which we call it `pick` (and a corresponding map-function, `pick-map`) and will implement it later."
   ]
  },
  {
   "cell_type": "code",
   "execution_count": 26,
   "metadata": {
    "collapsed": true
   },
   "outputs": [],
   "source": [
    "(define (deriv exp var)\n",
    "  (define (D e) (deriv e var))\n",
    "  (cond [(number? exp) 0]\n",
    "        [(variable? exp)\n",
    "         (if (same-variable? exp var) 1 0)]\n",
    "        [(sum? exp)\n",
    "         (make-sum (map D (terms exp)))]\n",
    "        [(product? exp)\n",
    "         (make-sum\n",
    "          (pick-map (fn (e es) (make-product (cons (D e) es)))\n",
    "                    (terms exp)))]\n",
    "        [(exponentiation? exp)\n",
    "         (make-product-lit (exponent exp)\n",
    "                           (make-product-lit\n",
    "                             (make-exponentiation (base exp) (- (exponent exp) 1))\n",
    "                             (deriv (base exp) var)))]\n",
    "        [else (error \"what are you feeding me? is that dog food?! -- DERIV\") exp]))\n",
    "\n",
    ";; we use lists of the form ('+ e1 e2 ...) to represent sums\n",
    "(define (sum? e)\n",
    "  (and (pair? e) (eq? (car e) '+)))\n",
    "(define (make-sum terms) (cons '+ terms))\n",
    "(define (make-sum-lit a1 a2) (make-sum (list a1 a2)))\n",
    "(define (terms e) (cdr e))\n",
    "\n",
    ";; we use lists of the form ('* e1 e2 ...) to represent products\n",
    "(define (product? e)\n",
    "  (and (pair? e) (eq? (car e) '*)))\n",
    "(define (make-product factors) (cons '* factors))\n",
    "(define (make-product-lit m1 m2) (make-product (list m1 m2)))\n",
    "(define (factors e) (cdr e))"
   ]
  },
  {
   "cell_type": "markdown",
   "metadata": {},
   "source": [
    "#### `pick` and `pick-map`"
   ]
  },
  {
   "cell_type": "code",
   "execution_count": 27,
   "metadata": {
    "collapsed": false
   },
   "outputs": [],
   "source": [
    "(define (pick xs)\n",
    "  (define (F front tail acc)\n",
    "    (if (null? tail) acc\n",
    "        (F (cons (car tail) front)\n",
    "           (cdr tail)\n",
    "           (cons (cons (car tail) (append (reverse front) (cdr tail))) acc))))\n",
    "  (reverse (F '() xs '())))\n",
    "(define (pick-map f xs)\n",
    "  (map (fn (p) (f (car p) (cdr p))) (pick xs)))"
   ]
  },
  {
   "cell_type": "code",
   "execution_count": 28,
   "metadata": {
    "collapsed": false
   },
   "outputs": [
    {
     "data": {
      "text/plain": [
       "((0 1 2 3 4) (1 0 2 3 4) (2 0 1 3 4) (3 0 1 2 4) (4 0 1 2 3))"
      ]
     },
     "execution_count": 28,
     "metadata": {},
     "output_type": "execute_result"
    }
   ],
   "source": [
    "(pick (range 5))"
   ]
  },
  {
   "cell_type": "code",
   "execution_count": 29,
   "metadata": {
    "collapsed": false
   },
   "outputs": [
    {
     "data": {
      "text/plain": [
       "(((1 2 3 4) . 0) ((0 2 3 4) . 1) ((0 1 3 4) . 2) ((0 1 2 4) . 3) ((0 1 2 3) . 4))"
      ]
     },
     "execution_count": 29,
     "metadata": {},
     "output_type": "execute_result"
    }
   ],
   "source": [
    "(pick-map (fn (x xs) (cons xs x)) (range 5))"
   ]
  },
  {
   "cell_type": "markdown",
   "metadata": {},
   "source": [
    "#### Refinements of constructors `make-sum` and `make-product`"
   ]
  },
  {
   "cell_type": "code",
   "execution_count": 30,
   "metadata": {
    "collapsed": false
   },
   "outputs": [],
   "source": [
    "(define (make-sum terms)\n",
    "  (define filtered (filter-out (eqv-pred 0) terms))\n",
    "  (cond [(null? filtered) 0]\n",
    "        [(forall number? terms) (sum filtered)]\n",
    "        [(singleton? filtered) (car filtered)]\n",
    "        [else (cons '+ filtered)]))\n",
    "(define (make-product factors)\n",
    "  (define (prod xs) (foldl * 1 xs))\n",
    "  (define filtered (filter-out (eqv-pred 1) factors))\n",
    "  (cond [(null? filtered) 1]\n",
    "        [(forall number? filtered) (prod filtered)]\n",
    "        [(exists (eqv-pred 0) filtered) 0]\n",
    "        [(singleton? filtered) (car filtered)]\n",
    "        [else (cons '* filtered)]))\n",
    "\n",
    "(define (filter-out pred xs) (filter (negate pred) xs))\n",
    "(define (eqv-pred x) (fn (y) (eqv? x y)))"
   ]
  },
  {
   "cell_type": "markdown",
   "metadata": {},
   "source": [
    "#### Tryouts"
   ]
  },
  {
   "cell_type": "code",
   "execution_count": 31,
   "metadata": {
    "collapsed": false
   },
   "outputs": [
    {
     "data": {
      "text/plain": [
       "(* 3 (* (** (+ (** x 6) (* 2 x)) 2) (+ (* 6 (** x 5)) 2)))"
      ]
     },
     "execution_count": 31,
     "metadata": {},
     "output_type": "execute_result"
    }
   ],
   "source": [
    "(deriv '(** (+ (** x 6) (* 2 x)) 3) 'x)"
   ]
  },
  {
   "cell_type": "code",
   "execution_count": 32,
   "metadata": {
    "collapsed": false
   },
   "outputs": [
    {
     "data": {
      "text/plain": [
       "(+ 3 4 (* (* 2 x) y))"
      ]
     },
     "execution_count": 32,
     "metadata": {},
     "output_type": "execute_result"
    }
   ],
   "source": [
    "(deriv '(+ (* 3 x) (* 4 x) (* (** x 2) y)) 'x)"
   ]
  },
  {
   "cell_type": "code",
   "execution_count": 33,
   "metadata": {
    "collapsed": false
   },
   "outputs": [
    {
     "data": {
      "text/plain": [
       "(+ (* (+ 3 4 (* (* 2 x) y)) y x) (* (+ (* 3 x) (* 4 x) (* (** x 2) y)) y))"
      ]
     },
     "execution_count": 33,
     "metadata": {},
     "output_type": "execute_result"
    }
   ],
   "source": [
    "(deriv '(* (+ (* 3 x) (* 4 x) (* (** x 2) y)) y x) 'x)"
   ]
  },
  {
   "cell_type": "markdown",
   "metadata": {},
   "source": [
    "### Exercise 2.58 (a)\n",
    "\n",
    "The key for this exercise is the `interpose` higher-order list function. What it does is to insert a /separator/ in between of every consecutive pairs of elements in a list.\n",
    "\n",
    "E.g.\n",
    "````\n",
    "(interpose '+ '(1 2 3)) ~~> '(1 + 2 + 3)\n",
    "(interpose '$ '(4 (3 2) 1)) ~~> '(4 $ (3 2) $ 1)\n",
    "````\n",
    "\n",
    "Of course you also need to realize that the `algebraic->infix` function is recursive, in the sense that every subexpression of an algebraic expression should also be converted to the infix form. This is obvious since you should have noticed that the algebraic expressions are structurally trees."
   ]
  },
  {
   "cell_type": "code",
   "execution_count": 34,
   "metadata": {
    "collapsed": false
   },
   "outputs": [],
   "source": [
    "(define (algebraic->infix e)\n",
    "  (cond [(number? e) e]\n",
    "        [(variable? e) e]\n",
    "        [(sum? e) (interpose '+ (map algebraic->infix (terms e)))]\n",
    "        [(product? e) (interpose '* (map algebraic->infix (factors e)))]\n",
    "        [(exponentiation? e) (list (base e) '** (exponent e))]))\n",
    "\n",
    "(define (deriv-pp e var) (algebraic->infix (deriv e var)))"
   ]
  },
  {
   "cell_type": "code",
   "execution_count": 35,
   "metadata": {
    "collapsed": false
   },
   "outputs": [
    {
     "data": {
      "text/plain": [
       "(3 + 4 + ((2 * x) * y))"
      ]
     },
     "execution_count": 35,
     "metadata": {},
     "output_type": "execute_result"
    }
   ],
   "source": [
    "(deriv-pp '(+ (* 3 x) (* 4 x) (* (** x 2) y)) 'x)"
   ]
  },
  {
   "cell_type": "code",
   "execution_count": 36,
   "metadata": {
    "collapsed": false
   },
   "outputs": [
    {
     "data": {
      "text/plain": [
       "(((3 + 4 + ((2 * x) * y)) * y * x) + (((3 * x) + (4 * x) + ((x ** 2) * y)) * y))"
      ]
     },
     "execution_count": 36,
     "metadata": {},
     "output_type": "execute_result"
    }
   ],
   "source": [
    "(deriv-pp '(* (+ (* 3 x) (* 4 x) (* (** x 2) y)) y x) 'x)"
   ]
  },
  {
   "cell_type": "markdown",
   "metadata": {},
   "source": [
    "### Exercise 2.58 (b)"
   ]
  },
  {
   "cell_type": "markdown",
   "metadata": {},
   "source": [
    "Actually this is known as the \"parsing problem\". It is known to be possible to parse infix algebraic expressions and the language of those expressions are known to be in the Context Free Language class.\n",
    "\n",
    "An implementation for the parser is skipped here for now. If you're interested, consult the Internet."
   ]
  },
  {
   "cell_type": "markdown",
   "metadata": {},
   "source": [
    "## §§2.3.3 Example: Representing Sets"
   ]
  },
  {
   "cell_type": "code",
   "execution_count": 37,
   "metadata": {
    "collapsed": true
   },
   "outputs": [],
   "source": [
    "%include \"/library/prelude.scm\""
   ]
  },
  {
   "cell_type": "code",
   "execution_count": 38,
   "metadata": {
    "collapsed": false
   },
   "outputs": [
    {
     "data": {
      "text/plain": [
       "#f"
      ]
     },
     "execution_count": 38,
     "metadata": {},
     "output_type": "execute_result"
    }
   ],
   "source": [
    ";; let's plan what operations we want for the set ADT\n",
    "(if #t #f\n",
    " (list\n",
    "  (empty-set) ; somehow there's no mention of empty-set in the book, but\n",
    "              ; we should need it\n",
    "  (make-set xs) ; this will come convenient for trying other operations\n",
    "  (ajoin-set x set)\n",
    "  (union-set set1 set2)\n",
    "  (intersection-set set1 set2)\n",
    "  (element-of-set? x set)\n",
    "  (empty-set? set))) ; empty-set? is also something we should have"
   ]
  },
  {
   "cell_type": "markdown",
   "metadata": {},
   "source": [
    "### Sets as unordered lists (also Exercise 2.59)"
   ]
  },
  {
   "cell_type": "code",
   "execution_count": 39,
   "metadata": {
    "collapsed": true
   },
   "outputs": [],
   "source": [
    "(define (empty-set) '())\n",
    "(define (ajoin-set x set)\n",
    "  (if (element-of-set? x set) set\n",
    "      (cons x set)))\n",
    "(define (union-set set1 set2)\n",
    "  (cond [(null? set1) set2]\n",
    "        [(null? set2) set1]\n",
    "        [else (union-set (cdr set1)\n",
    "                         (ajoin-set (car set1) set2))]))\n",
    "(define (intersection-set set1 set2)\n",
    "  (cond [(or (null? set1) (null? set2)) (empty-set)]\n",
    "        [else (filter (curry2 element-of-set? set1) set2)]))\n",
    "(define (element-of-set? x set)\n",
    "  (exists (curry equal? x) set))\n",
    "(define (empty-set? set) (null? set))"
   ]
  },
  {
   "cell_type": "markdown",
   "metadata": {},
   "source": [
    "### Exercise 2.60"
   ]
  },
  {
   "cell_type": "code",
   "execution_count": 40,
   "metadata": {
    "collapsed": true
   },
   "outputs": [],
   "source": [
    "(define (make-set xs)\n",
    "  (define (F xs acc)\n",
    "    (if (null? xs) acc\n",
    "        (F (cdr xs) (ajoin-set (car xs) acc))))\n",
    "  (F xs (empty-set)))"
   ]
  },
  {
   "cell_type": "markdown",
   "metadata": {},
   "source": [
    "Yes. If we want to prioritize the `ajoin-set` operation, then a duplicate-allowed list representation would be more efficient ($O(1)$ vs. $O(n)$)."
   ]
  },
  {
   "cell_type": "markdown",
   "metadata": {},
   "source": [
    "#### Tryouts"
   ]
  },
  {
   "cell_type": "code",
   "execution_count": 41,
   "metadata": {
    "collapsed": false
   },
   "outputs": [
    {
     "data": {
      "text/plain": [
       "(9 8 7 6 5 4 3 2 1 0)"
      ]
     },
     "execution_count": 41,
     "metadata": {},
     "output_type": "execute_result"
    }
   ],
   "source": [
    "(make-set (range 10))"
   ]
  },
  {
   "cell_type": "code",
   "execution_count": 42,
   "metadata": {
    "collapsed": false
   },
   "outputs": [
    {
     "data": {
      "text/plain": [
       "((4 3 2 1) (3 6 5 4))"
      ]
     },
     "execution_count": 42,
     "metadata": {},
     "output_type": "execute_result"
    }
   ],
   "source": [
    "(define X (make-set '(1 2 3 3 2 1 2 4 3 2)))\n",
    "(define Y (make-set '(4 5 6 4 5 3)))\n",
    "(list X Y)"
   ]
  },
  {
   "cell_type": "code",
   "execution_count": 43,
   "metadata": {
    "collapsed": false
   },
   "outputs": [
    {
     "data": {
      "text/plain": [
       "(1 2 3 6 5 4)"
      ]
     },
     "execution_count": 43,
     "metadata": {},
     "output_type": "execute_result"
    }
   ],
   "source": [
    "(union-set X Y)"
   ]
  },
  {
   "cell_type": "code",
   "execution_count": 44,
   "metadata": {
    "collapsed": false
   },
   "outputs": [
    {
     "data": {
      "text/plain": [
       "(3 4)"
      ]
     },
     "execution_count": 44,
     "metadata": {},
     "output_type": "execute_result"
    }
   ],
   "source": [
    "(intersection-set X Y)"
   ]
  },
  {
   "cell_type": "code",
   "execution_count": 45,
   "metadata": {
    "collapsed": false
   },
   "outputs": [
    {
     "data": {
      "text/plain": [
       "(a 4 3 2 1)"
      ]
     },
     "execution_count": 45,
     "metadata": {},
     "output_type": "execute_result"
    }
   ],
   "source": [
    "(ajoin-set 'a X)"
   ]
  },
  {
   "cell_type": "code",
   "execution_count": 46,
   "metadata": {
    "collapsed": false
   },
   "outputs": [
    {
     "data": {
      "text/plain": [
       "(4 3 2 1)"
      ]
     },
     "execution_count": 46,
     "metadata": {},
     "output_type": "execute_result"
    }
   ],
   "source": [
    "(ajoin-set 2 X)"
   ]
  },
  {
   "cell_type": "markdown",
   "metadata": {},
   "source": [
    "### Sets as orderd lists (also Exercise 2.61 & 2.62)\n",
    "\n",
    "We use `eqv?` instead of `=` as in the book so that our version could deal with both numbers and symbols (hopefully also some other primitive data types)."
   ]
  },
  {
   "cell_type": "code",
   "execution_count": 47,
   "metadata": {
    "collapsed": false
   },
   "outputs": [],
   "source": [
    "(define (make-set xs) (uniq (sort < xs)))\n",
    "(define (element-of-set? x set)\n",
    "  (cond [(null? set) #f]\n",
    "        [(eqv? x (car set)) #t]\n",
    "        [(< x (car set)) #f]\n",
    "        [else (element-of-set? x (cdr set))]))\n",
    "(define (ajoin-set x set)\n",
    "  (cond [(null? set) (list x)]\n",
    "        [(eqv? x (car set)) set]\n",
    "        [(< x (car set)) (cons x set)]\n",
    "        [(> x (car set)) (cons (car set)\n",
    "                               (ajoin-set x (cdr set)))]))\n",
    "(define (intersection-set set1 set2)\n",
    "  (cond [(or (null? set1) (null? set2)) (empty-set)]\n",
    "        [(eqv? (car set1) (car set2)) (cons (car set1)\n",
    "                                            (intersection-set\n",
    "                                              (cdr set1)\n",
    "                                              (cdr set2)))]\n",
    "        [(< (car set1) (car set2)) (intersection-set (cdr set1) set2)]\n",
    "        [(> (car set1) (car set2)) (intersection-set set1 (cdr set2))]))\n",
    "(define (union-set set1 set2)\n",
    "  (cond [(null? set1) set2]\n",
    "        [(null? set2) set1]\n",
    "        [(eqv? (car set1) (car set2)) (cons (car set1)\n",
    "                                            (union-set (cdr set1)\n",
    "                                                       (cdr set2)))]\n",
    "        [(< (car set1) (car set2)) (cons (car set1)\n",
    "                                         (union-set (cdr set1) set2))]\n",
    "        [(> (car set1) (car set2)) (cons (car set2)\n",
    "                                         (union-set set1 (cdr set2)))]))\n",
    "\n",
    "(define (uniq-gen equiv sorted-list)\n",
    "  (define (F xs acc)\n",
    "    (cond [(null? xs) acc]\n",
    "          [(null? acc) (F (cdr xs) (list (car xs)))]\n",
    "          [else (F (cdr xs)\n",
    "                   (if (equiv (car xs) (car acc)) acc\n",
    "                       (cons (car xs) acc)))]))\n",
    "  (reverse (F sorted-list '())))\n",
    "(define uniq (curry uniq-gen equal?))"
   ]
  },
  {
   "cell_type": "code",
   "execution_count": 48,
   "metadata": {
    "collapsed": false
   },
   "outputs": [
    {
     "data": {
      "text/plain": [
       "(0 1 2 3 4 5 6 7 8 9)"
      ]
     },
     "execution_count": 48,
     "metadata": {},
     "output_type": "execute_result"
    }
   ],
   "source": [
    "(make-set (range 10))"
   ]
  },
  {
   "cell_type": "code",
   "execution_count": 49,
   "metadata": {
    "collapsed": false
   },
   "outputs": [
    {
     "data": {
      "text/plain": [
       "((1 2 3 4) (3 4 5 6))"
      ]
     },
     "execution_count": 49,
     "metadata": {},
     "output_type": "execute_result"
    }
   ],
   "source": [
    "(define X (make-set '(1 2 3 3 2 1 2 4 3 2)))\n",
    "(define Y (make-set '(4 5 6 4 5 3)))\n",
    "(list X Y)"
   ]
  },
  {
   "cell_type": "code",
   "execution_count": 50,
   "metadata": {
    "collapsed": false
   },
   "outputs": [
    {
     "data": {
      "text/plain": [
       "(1 2 3 4 5 6)"
      ]
     },
     "execution_count": 50,
     "metadata": {},
     "output_type": "execute_result"
    }
   ],
   "source": [
    "(union-set X Y)"
   ]
  },
  {
   "cell_type": "code",
   "execution_count": 51,
   "metadata": {
    "collapsed": false
   },
   "outputs": [
    {
     "data": {
      "text/plain": [
       "(3 4)"
      ]
     },
     "execution_count": 51,
     "metadata": {},
     "output_type": "execute_result"
    }
   ],
   "source": [
    "(intersection-set X Y)"
   ]
  },
  {
   "cell_type": "code",
   "execution_count": 52,
   "metadata": {
    "collapsed": false
   },
   "outputs": [
    {
     "data": {
      "text/plain": [
       "(1 2 3 4 100)"
      ]
     },
     "execution_count": 52,
     "metadata": {},
     "output_type": "execute_result"
    }
   ],
   "source": [
    "(ajoin-set 100 X)"
   ]
  },
  {
   "cell_type": "code",
   "execution_count": 53,
   "metadata": {
    "collapsed": false
   },
   "outputs": [
    {
     "data": {
      "text/plain": [
       "(1 2 3 4)"
      ]
     },
     "execution_count": 53,
     "metadata": {},
     "output_type": "execute_result"
    }
   ],
   "source": [
    "(ajoin-set 2 X)"
   ]
  },
  {
   "cell_type": "markdown",
   "metadata": {},
   "source": [
    "### Sets as binary trees"
   ]
  },
  {
   "cell_type": "code",
   "execution_count": 54,
   "metadata": {
    "collapsed": true
   },
   "outputs": [],
   "source": [
    ";; instead of left/right-branch, we call them left/right-child\n",
    ";; and use lch/rch to refer to them\n",
    "\n",
    "(define (make-tree entry lch rch) (list entry lch rch))\n",
    "(define (entry tree) (car tree))\n",
    "(define (lch tree) (cadr tree))\n",
    "(define (rch tree) (caddr tree))\n",
    "(define (leaf? tree) (and (pair? tree)\n",
    "                          (null? (lch tree))\n",
    "                          (null? (rch tree))))\n",
    "\n",
    "(define (element-of-set? x set)\n",
    "  (cond [(null? set) #f]\n",
    "        [(eqv? x (entry set)) #t]\n",
    "        [(< x (entry set)) (element-of-set? x (lch set))]\n",
    "        [(> x (entry set)) (element-of-set? x (rch set))]))\n",
    "(define (ajoin-set x set)\n",
    "  (cond [(null? set) (make-tree x '() '())]\n",
    "        [(eqv? x (entry set)) set]\n",
    "        [(< x (entry set))\n",
    "         (make-tree (entry set)\n",
    "                    (ajoin-set x (lch set)) (rch set))]\n",
    "        [(> x (entry set))\n",
    "         (make-tree (entry set)\n",
    "                    (lch set) (ajoin-set x (rch set)))]))"
   ]
  },
  {
   "cell_type": "markdown",
   "metadata": {},
   "source": [
    "#### Exercise 2.63 & 2.64\n",
    "\n",
    "So I'm actually giving my implementation of `tree->list` and `list->tree` here. (And it happens that my `tree->list` implementation is the same as `tree->list-2`)\n",
    "\n",
    "To answer ex2.63 (a): they are the same, and they will output\n",
    "`(1 3 5 7 9 11)` for the trees in Figure 2.16. (b): apparently the second version is faster, due to the fact that firstly it never uses `append`, which is a very expensive operation, and secondly it is a tail-recursive call.\n",
    "\n",
    "To answer ex2.64: I don't bother to read the program on the book (it's so ugly!) since I have a better one :D"
   ]
  },
  {
   "cell_type": "code",
   "execution_count": 55,
   "metadata": {
    "collapsed": false
   },
   "outputs": [],
   "source": [
    "(define (make-set xs) (list->tree (uniq (sort < xs))))\n",
    "(define (tree->list tree)\n",
    "  (define (F tree acc)\n",
    "    (if (null? tree) acc\n",
    "        (F (lch tree)\n",
    "           (cons (entry tree) (F (rch tree) acc)))))\n",
    "  (F tree '()))\n",
    "(define (list->tree xs)\n",
    "  (define (F xs len)\n",
    "    (cond [(null? xs) '()]\n",
    "          [else\n",
    "           (apply (fn (as x bs) (make-tree x as bs))\n",
    "            (fold-split-map (fn (ys) (F ys (length ys)))\n",
    "                            xs len))]))\n",
    "  (define (fold-split xs len)\n",
    "    (apply (fn (as bs) (list as (car bs) (cdr bs)))\n",
    "           (split (quotient len 2) xs)))\n",
    "  (define (fold-split-map f xs len)\n",
    "    (apply (fn (as x bs) (list (f as) x (f bs)))\n",
    "           (fold-split xs len)))\n",
    "  (F xs (length xs)))\n",
    "\n",
    "(define (split n xs)\n",
    "  (define (F n xs ys)\n",
    "    (if (= n 0) (list (reverse ys) xs)\n",
    "        (F (- n 1) (cdr xs) (cons (car xs) ys))))\n",
    "  (F n xs '()))\n",
    "(define (tree-singleton x) (make-tree x '() '()))"
   ]
  },
  {
   "cell_type": "markdown",
   "metadata": {},
   "source": [
    "#### Exercise 2.65"
   ]
  },
  {
   "cell_type": "code",
   "execution_count": 56,
   "metadata": {
    "collapsed": false
   },
   "outputs": [],
   "source": [
    "(define (bst-intersection-set set1 set2)\n",
    "  (cond [(or (null? set1) (null? set2)) (empty-set)]\n",
    "        [(eqv? (car set1) (car set2)) (cons (car set1)\n",
    "                                            (bst-intersection-set\n",
    "                                              (cdr set1)\n",
    "                                              (cdr set2)))]\n",
    "        [(< (car set1) (car set2))\n",
    "         (bst-intersection-set (cdr set1) set2)]\n",
    "        [(> (car set1) (car set2))\n",
    "         (bst-intersection-set set1 (cdr set2))]))\n",
    "(define (bst-union-set set1 set2)\n",
    "  (cond [(null? set1) set2]\n",
    "        [(null? set2) set1]\n",
    "        [(eqv? (car set1) (car set2))\n",
    "         (cons (car set1)\n",
    "               (bst-union-set (cdr set1)\n",
    "                              (cdr set2)))]\n",
    "        [(< (car set1) (car set2))\n",
    "         (cons (car set1) (bst-union-set (cdr set1) set2))]\n",
    "        [(> (car set1) (car set2))\n",
    "         (cons (car set2) (bst-union-set set1 (cdr set2)))]))\n",
    "\n",
    "(define (union-set set1 set2)\n",
    "    (list->tree (bst-union-set (tree->list set1)\n",
    "                               (tree->list set2))))\n",
    "(define (intersection-set set1 set2)\n",
    "    (list->tree (bst-intersection-set (tree->list set1)\n",
    "                                      (tree->list set2))))"
   ]
  },
  {
   "cell_type": "code",
   "execution_count": 57,
   "metadata": {
    "collapsed": false
   },
   "outputs": [
    {
     "data": {
      "text/plain": [
       "(5 (2 (1 (0 () ()) ()) (4 (3 () ()) ())) (8 (7 (6 () ()) ()) (9 () ())))"
      ]
     },
     "execution_count": 57,
     "metadata": {},
     "output_type": "execute_result"
    }
   ],
   "source": [
    "(make-set (range 10))"
   ]
  },
  {
   "cell_type": "code",
   "execution_count": 58,
   "metadata": {
    "collapsed": false
   },
   "outputs": [
    {
     "data": {
      "text/plain": [
       "((3 (2 (1 () ()) ()) (4 () ())) (5 (4 (3 () ()) ()) (6 () ())))"
      ]
     },
     "execution_count": 58,
     "metadata": {},
     "output_type": "execute_result"
    }
   ],
   "source": [
    "(define X (make-set '(1 2 3 3 2 1 2 4 3 2)))\n",
    "(define Y (make-set '(4 5 6 4 5 3)))\n",
    "(list X Y)"
   ]
  },
  {
   "cell_type": "code",
   "execution_count": 59,
   "metadata": {
    "collapsed": false
   },
   "outputs": [
    {
     "data": {
      "text/plain": [
       "((1 2 3 4) (3 4 5 6))"
      ]
     },
     "execution_count": 59,
     "metadata": {},
     "output_type": "execute_result"
    }
   ],
   "source": [
    "(list (tree->list X) (tree->list Y))"
   ]
  },
  {
   "cell_type": "code",
   "execution_count": 60,
   "metadata": {
    "collapsed": false,
    "scrolled": true
   },
   "outputs": [
    {
     "data": {
      "text/plain": [
       "(1 2 3 4 5 6)"
      ]
     },
     "execution_count": 60,
     "metadata": {},
     "output_type": "execute_result"
    }
   ],
   "source": [
    "(tree->list (union-set X Y))"
   ]
  },
  {
   "cell_type": "code",
   "execution_count": 61,
   "metadata": {
    "collapsed": false
   },
   "outputs": [
    {
     "data": {
      "text/plain": [
       "(3 4)"
      ]
     },
     "execution_count": 61,
     "metadata": {},
     "output_type": "execute_result"
    }
   ],
   "source": [
    "(tree->list (intersection-set X Y))"
   ]
  },
  {
   "cell_type": "code",
   "execution_count": 62,
   "metadata": {
    "collapsed": false
   },
   "outputs": [
    {
     "data": {
      "text/plain": [
       "(1 2 3 4 100)"
      ]
     },
     "execution_count": 62,
     "metadata": {},
     "output_type": "execute_result"
    }
   ],
   "source": [
    "(tree->list (ajoin-set 100 X))"
   ]
  },
  {
   "cell_type": "code",
   "execution_count": 63,
   "metadata": {
    "collapsed": false
   },
   "outputs": [
    {
     "data": {
      "text/plain": [
       "(1 2 3 4)"
      ]
     },
     "execution_count": 63,
     "metadata": {},
     "output_type": "execute_result"
    }
   ],
   "source": [
    "(tree->list (ajoin-set 2 X))"
   ]
  },
  {
   "cell_type": "markdown",
   "metadata": {},
   "source": [
    "### Sets and information retrieval (also Exercise 2.66)"
   ]
  },
  {
   "cell_type": "code",
   "execution_count": 64,
   "metadata": {
    "collapsed": false
   },
   "outputs": [
    {
     "data": {
      "text/plain": [
       "#t"
      ]
     },
     "execution_count": 64,
     "metadata": {},
     "output_type": "execute_result"
    }
   ],
   "source": [
    ";; let's first list the procedures that we want\n",
    "(if #t #t\n",
    "  (list\n",
    "   (make-record key data)\n",
    "   (key record)\n",
    "   (data record)\n",
    "   (same-key? record1 record2)\n",
    "   \n",
    "   (empty-database)\n",
    "   (add-record record database) ; we want this operation to also override\n",
    "                                ; the existing record with the same key\n",
    "   (make-database list-of-records) ; no guarentee which records would make\n",
    "                                   ; into the database if records with same\n",
    "                                   ; keys exist\n",
    "   \n",
    "   (record-exists? key database)\n",
    "   (retrieve-record key database)\n",
    "   (retrieve-data key database))) ; aka lookup"
   ]
  },
  {
   "cell_type": "code",
   "execution_count": 65,
   "metadata": {
    "collapsed": true
   },
   "outputs": [],
   "source": [
    ";; we use a binary search tree to represent a database\n",
    ";; and a pair to represent a record\n",
    "\n",
    ";; in contrast to what the book requires, we also allow the keys of records\n",
    ";; to be symbols. but it is not allowed to mix symbolic keys and numeral\n",
    ";; keys in a same database\n",
    "(define (make-record ky data) (cons ky data))\n",
    "(define (key record) (car record))\n",
    "(define (data record) (cdr record))\n",
    "(define (key-relation? rel r1 r2) (rel (key r1) (key r2)))\n",
    "(define (same-key? r1 r2) (key-relation? eqv? r1 r2))\n",
    "\n",
    "(define (empty-database) '())\n",
    "(define (add-record record database)\n",
    "  (cond [(null? database) (tree-singleton record)]\n",
    "        [(same-key? record (entry database))\n",
    "         (make-tree record (lch database) (rch database))]\n",
    "        [(key-relation? <g record (entry database))\n",
    "         (make-tree (entry database)\n",
    "                    (add-record record (lch database)) (rch database))]\n",
    "        [(key-relation? >g record (entry database))\n",
    "         (make-tree (entry database)\n",
    "                    (lch database) (add-record record (rch database)))]))\n",
    "(define (make-database rs)\n",
    "  (list->tree (uniq-gen same-key?\n",
    "                        (sort (curry key-relation? <g) rs))))\n",
    "\n",
    "(define (record-exists? ky database)\n",
    "  (if (retrieve-record ky database) #t #f))\n",
    "(define (retrieve-record ky database)\n",
    "  (cond [(null? database) #f]\n",
    "        [(eqv? ky (key (entry database))) (entry database)]\n",
    "        [(<g ky (key (entry database))) (retrieve-record ky (lch database))]\n",
    "        [(>g ky (key (entry database))) (retrieve-record ky (rch database))]))\n",
    "(define (retrieve-data ky database)\n",
    "  (let ([record (retrieve-record ky database)])\n",
    "    (if record (data record) #f)))\n",
    "(define lookup retrieve-data) ; an alias\n",
    "\n",
    "(define (make-gen-comp comp)\n",
    "  (fn xs (cond [(forall number? xs) (apply comp xs)]\n",
    "               [(forall symbol? xs) (apply comp (map symbol->string xs))]\n",
    "               [else (error \"not supported comparison -- GEN-COMP\" xs)])))\n",
    "(define <g (make-gen-comp <))\n",
    "(define >g (make-gen-comp >))"
   ]
  },
  {
   "cell_type": "code",
   "execution_count": 66,
   "metadata": {
    "collapsed": false
   },
   "outputs": [
    {
     "data": {
      "text/plain": [
       "((indianred . \"#CD5C5C\") ((green . \"#00FF00\") ((blue . \"#0000FF\") ((black . \"#000000\") () ()) ()) ((grey . \"#999999\") () ())) ((red . \"#FF0000\") ((olive . \"#808000\") () ()) ((white . \"#FFFFFF\") () ())))"
      ]
     },
     "execution_count": 66,
     "metadata": {},
     "output_type": "execute_result"
    }
   ],
   "source": [
    "(define colors (make-database\n",
    "            '((black . \"#000000\")\n",
    "              (white . \"#FFFFFF\")\n",
    "              (grey . \"#999999\")\n",
    "              (red . \"#FF0000\")\n",
    "              (blue . \"#0000FF\")\n",
    "              (green . \"#00FF00\")\n",
    "              (indianred . \"#CD5C5C\")\n",
    "              (olive . \"#808000\"))))\n",
    "colors"
   ]
  },
  {
   "cell_type": "code",
   "execution_count": 67,
   "metadata": {
    "collapsed": false
   },
   "outputs": [
    {
     "data": {
      "text/plain": [
       "(\"#00FF00\" \"#808000\" #f)"
      ]
     },
     "execution_count": 67,
     "metadata": {},
     "output_type": "execute_result"
    }
   ],
   "source": [
    "(list (lookup 'green colors)\n",
    "      (lookup 'olive colors)\n",
    "      (lookup 'meow colors))"
   ]
  },
  {
   "cell_type": "code",
   "execution_count": 68,
   "metadata": {
    "collapsed": false,
    "scrolled": true
   },
   "outputs": [
    {
     "data": {
      "text/plain": [
       "\"<RAINBOW!>\""
      ]
     },
     "execution_count": 68,
     "metadata": {},
     "output_type": "execute_result"
    }
   ],
   "source": [
    "(lookup 'meow (add-record (make-record 'meow \"<RAINBOW!>\") colors))"
   ]
  },
  {
   "cell_type": "markdown",
   "metadata": {},
   "source": [
    "## §§2.3.4 Example: Huffman Encoding Trees"
   ]
  },
  {
   "cell_type": "code",
   "execution_count": 69,
   "metadata": {
    "collapsed": true
   },
   "outputs": [],
   "source": [
    "%include \"/library/prelude.scm\""
   ]
  },
  {
   "cell_type": "code",
   "execution_count": 70,
   "metadata": {
    "collapsed": true
   },
   "outputs": [],
   "source": [
    ";; as usual, we firstly list the procedures we need\n",
    "(if #t (void)\n",
    "    (list\n",
    "     (make-leaf symbol weight)\n",
    "     (leaf? tr)\n",
    "     (leaf-symbol tr)\n",
    "     (leaf-weight tr)\n",
    "\n",
    "     (make-node tr1 tr2)\n",
    "     (node-symbols tr)\n",
    "     (node-weight tr)\n",
    "     (left-child tr)\n",
    "     (right-child tr)\n",
    "\n",
    "     (symbols tr)\n",
    "     (weight tr)))\n",
    "\n",
    "(if #t (void)\n",
    "    (list\n",
    "     (decode tree bits)       ; since tree is more likely to be fixed,\n",
    "                              ; we change the order of arguments\n",
    "                              ; wrt. the book\n",
    "     (encode tree string)))"
   ]
  },
  {
   "cell_type": "markdown",
   "metadata": {},
   "source": [
    "#### The tree ADT"
   ]
  },
  {
   "cell_type": "code",
   "execution_count": 71,
   "metadata": {
    "collapsed": false
   },
   "outputs": [],
   "source": [
    ";; we represent a leaf as a list of form ('leaf symbol weight)\n",
    "(define (make-leaf symbol weight)\n",
    "  (list 'leaf symbol weight))\n",
    "(define (leaf? tr) (and (pair? tr) (eq? 'leaf (car tr))))\n",
    "(define (leaf-symbol tr) (cadr tr))\n",
    "(define (leaf-weight tr) (caddr tr))\n",
    "\n",
    ";; we represent a node as a list of form (symbols weight lch rch)\n",
    ";; where lch/rch are left/right-child\n",
    "(define (make-node tr1 tr2)\n",
    "  (list (append (symbols tr1) (symbols tr2))\n",
    "        (+ (weight tr1) (weight tr2))\n",
    "        tr1 tr2))\n",
    "(define (node-symbols tr) (car tr))\n",
    "(define (node-weight tr) (cadr tr))\n",
    "(define (left-child tr) (caddr tr))\n",
    "(define (right-child tr) (cadddr tr))\n",
    "\n",
    ";; the (.< f g) is a macro that expands to (lambda (x) (f (g x))),\n",
    ";; aka function composition\n",
    "(define (symbols tr)\n",
    "  ((if (leaf? tr) (.< singleton leaf-symbol) node-symbols)\n",
    "   tr))\n",
    "(define (weight tr)\n",
    "  (if (leaf? tr) (leaf-weight tr)\n",
    "      (sum (map (fn (f) (weight (f tr)))\n",
    "                (list left-child right-child)))))\n",
    "(define (sum xs) (foldl + 0 xs))\n",
    "\n",
    "(define (singleton x) (list x))"
   ]
  },
  {
   "cell_type": "markdown",
   "metadata": {},
   "source": [
    "#### The encode/decode procedures and make-huffman procedure (solutions to Exercise 2.68 & 2.69)"
   ]
  },
  {
   "cell_type": "code",
   "execution_count": 72,
   "metadata": {
    "collapsed": true
   },
   "outputs": [],
   "source": [
    "(define (decode tr bits)\n",
    "  (define (decode-one tr bits) ; returns (symbol rest-bits)\n",
    "    (if (leaf? tr) (list (leaf-symbol tr) bits)\n",
    "        (cond [(= 0 (car bits))\n",
    "               (decode-one (left-child tr) (cdr bits))]\n",
    "              [(= 1 (car bits))\n",
    "               (decode-one (right-child tr) (cdr bits))])))\n",
    "  (define (F bits acc)\n",
    "    (if (null? bits) acc\n",
    "        (apply (fn (sym rest) (F rest (cons sym acc)))\n",
    "               (decode-one tr bits))))\n",
    "  (reverse (F bits '())))\n",
    "\n",
    "(define (encode tr msg)\n",
    "  (define (dfs tr bits acc) ; returns ((sym . rev-encoding) ...)\n",
    "    (if (leaf? tr)\n",
    "        (cons (cons (leaf-symbol tr) bits) acc)\n",
    "        (dfs (left-child tr) (cons 0 bits)\n",
    "             (dfs (right-child tr) (cons 1 bits) acc))))\n",
    "  (define table (dfs tr '() '()))\n",
    "  (define (lookup-sym table sym)\n",
    "    (if (eq? sym (caar table)) (cdar table)\n",
    "        (lookup-sym (cdr table) sym)))\n",
    "  (define (F msg acc)\n",
    "    (if (null? msg) acc\n",
    "        (F (cdr msg) (append (lookup-sym table (car msg)) acc))))\n",
    "  (reverse (F msg '())))"
   ]
  },
  {
   "cell_type": "code",
   "execution_count": 73,
   "metadata": {
    "collapsed": true
   },
   "outputs": [],
   "source": [
    "(define (adjoin-queue tr queue)\n",
    "  (cond [(null? queue) (singleton tr)]\n",
    "        [(< (weight tr) (weight (car queue)))\n",
    "         (cons tr queue)]\n",
    "        [else (cons (car queue) (adjoin-queue tr (cdr queue)))]))\n",
    "\n",
    "(define (make-huffman syms) ; syms in the form ((sym . freq) ...)\n",
    "  (define init-queue\n",
    "    (map (fn (p) (make-leaf (car p) (cdr p)))\n",
    "         (sort (fn (p1 p2) (< (cdr p1) (cdr p2))) syms)))\n",
    "  (define (merge queue)\n",
    "    (let ([tr1 (car queue)]\n",
    "          [tr2 (cadr queue)])\n",
    "      (adjoin-queue (make-node tr1 tr2)\n",
    "                    (cddr queue))))\n",
    "  (define (F queue)\n",
    "    (if (singleton? queue) queue\n",
    "        (F (merge queue))))\n",
    "  (define (singleton? queue) (and (pair? queue) (null? (cdr queue))))\n",
    "  (car (F init-queue)))"
   ]
  },
  {
   "cell_type": "markdown",
   "metadata": {},
   "source": [
    "#### Tryouts"
   ]
  },
  {
   "cell_type": "code",
   "execution_count": 74,
   "metadata": {
    "collapsed": false
   },
   "outputs": [
    {
     "data": {
      "text/plain": [
       "((A B C D) 8 (leaf A 4) ((B C D) 4 (leaf B 2) ((C D) 2 (leaf C 1) (leaf D 1))))"
      ]
     },
     "execution_count": 74,
     "metadata": {},
     "output_type": "execute_result"
    }
   ],
   "source": [
    "(define huffman1\n",
    "  (make-huffman '((A . 4) (B . 2) (C . 1) (D . 1))))\n",
    "huffman1"
   ]
  },
  {
   "cell_type": "code",
   "execution_count": 75,
   "metadata": {
    "collapsed": true
   },
   "outputs": [],
   "source": [
    "(define encode1 (curry encode huffman1))\n",
    "(define decode1 (curry decode huffman1))"
   ]
  },
  {
   "cell_type": "code",
   "execution_count": 76,
   "metadata": {
    "collapsed": false
   },
   "outputs": [
    {
     "data": {
      "text/plain": [
       "(0 0 1 0 0 1 0 1 1 0 1 1 1 1 0 0 1 0 1 1 0)"
      ]
     },
     "execution_count": 76,
     "metadata": {},
     "output_type": "execute_result"
    }
   ],
   "source": [
    "(encode1 '(A A B A B C D B A B C))"
   ]
  },
  {
   "cell_type": "code",
   "execution_count": 77,
   "metadata": {
    "collapsed": false
   },
   "outputs": [
    {
     "data": {
      "text/plain": [
       "(A A B A B C D B A B C)"
      ]
     },
     "execution_count": 77,
     "metadata": {},
     "output_type": "execute_result"
    }
   ],
   "source": [
    "((.< decode1 encode1) '(A A B A B C D B A B C))"
   ]
  },
  {
   "cell_type": "markdown",
   "metadata": {},
   "source": [
    "### Exercise 2.67"
   ]
  },
  {
   "cell_type": "code",
   "execution_count": 78,
   "metadata": {
    "collapsed": true
   },
   "outputs": [],
   "source": [
    "(define huffman67\n",
    "  (make-node\n",
    "   (make-leaf 'A 4)\n",
    "   (make-node\n",
    "    (make-leaf 'B 2)\n",
    "    (make-node\n",
    "     (make-leaf 'D 1)\n",
    "     (make-leaf 'C 1)))))\n",
    "(define message67 '(0 1 1 0 0 1 0 1 0 1 1 1 0))"
   ]
  },
  {
   "cell_type": "code",
   "execution_count": 79,
   "metadata": {
    "collapsed": false
   },
   "outputs": [
    {
     "data": {
      "text/plain": [
       "(A D A B B C A)"
      ]
     },
     "execution_count": 79,
     "metadata": {},
     "output_type": "execute_result"
    }
   ],
   "source": [
    "(decode huffman67 message67)"
   ]
  },
  {
   "cell_type": "code",
   "execution_count": 80,
   "metadata": {
    "collapsed": false
   },
   "outputs": [
    {
     "data": {
      "text/plain": [
       "(0 1 1 0 0 1 0 1 0 1 1 1 0)"
      ]
     },
     "execution_count": 80,
     "metadata": {},
     "output_type": "execute_result"
    }
   ],
   "source": [
    "(encode huffman67 '(A D A B B C A))"
   ]
  },
  {
   "cell_type": "markdown",
   "metadata": {},
   "source": [
    "### Exercise 2.70"
   ]
  },
  {
   "cell_type": "code",
   "execution_count": 81,
   "metadata": {
    "collapsed": true
   },
   "outputs": [],
   "source": [
    "(define huffman70\n",
    "  (make-huffman\n",
    "   '((a . 2) (na . 16) (boom . 1) (sha . 3) (get . 2)\n",
    "     (yip . 9) (job . 2) (wah . 1))))\n",
    "(define message70\n",
    "  '(get a job\n",
    "    sha na na na na na na na na\n",
    "    get a job\n",
    "    sha na na na na na na na na\n",
    "    wah yip yip yip yip yip yip yip yip yip\n",
    "    sha boom))"
   ]
  },
  {
   "cell_type": "code",
   "execution_count": 82,
   "metadata": {
    "collapsed": false
   },
   "outputs": [
    {
     "data": {
      "text/plain": [
       "84"
      ]
     },
     "execution_count": 82,
     "metadata": {},
     "output_type": "execute_result"
    }
   ],
   "source": [
    "(length (encode huffman70 message70))"
   ]
  },
  {
   "cell_type": "code",
   "execution_count": 83,
   "metadata": {
    "collapsed": false
   },
   "outputs": [
    {
     "data": {
      "text/plain": [
       "108"
      ]
     },
     "execution_count": 83,
     "metadata": {},
     "output_type": "execute_result"
    }
   ],
   "source": [
    ";; we need 3 bits for each symbol\n",
    "(* 3 (length message70))"
   ]
  },
  {
   "cell_type": "markdown",
   "metadata": {},
   "source": [
    "### Exercise 2.71\n",
    "\n",
    "Sketches are skipped.\n",
    "\n",
    "It would require 1 bit to encode the most frequent symbol\n",
    "and the least frequent symbol would require n-1 bits to encode"
   ]
  },
  {
   "cell_type": "markdown",
   "metadata": {},
   "source": [
    "### Exercise 2.72\n",
    "\n",
    "It takes $O(1)$ for the most frequent symbol and $O(n)$ for the least\n",
    "frequent symbol. This could be improved a lot if we replace the\n",
    "`lookup-sym` mechanism with a BST, which will reduce the encoding of\n",
    "each symbol to $O(\\log(n))$"
   ]
  }
 ],
 "metadata": {
  "kernelspec": {
   "display_name": "Calysto Scheme 3",
   "language": "scheme",
   "name": "calysto_scheme"
  },
  "language_info": {
   "codemirror_mode": {
    "name": "scheme"
   },
   "mimetype": "text/x-scheme",
   "name": "scheme",
   "pygments_lexer": "scheme"
  }
 },
 "nbformat": 4,
 "nbformat_minor": 0
}
